{
 "cells": [
  {
   "cell_type": "code",
   "execution_count": 1,
   "id": "edbb78ed-8c1e-4c02-8fb1-08f81b34eb71",
   "metadata": {
    "execution": {
     "iopub.execute_input": "2023-07-17T08:09:52.901321Z",
     "iopub.status.busy": "2023-07-17T08:09:52.900051Z",
     "iopub.status.idle": "2023-07-17T08:09:53.548285Z",
     "shell.execute_reply": "2023-07-17T08:09:53.547153Z",
     "shell.execute_reply.started": "2023-07-17T08:09:52.901261Z"
    },
    "tags": []
   },
   "outputs": [],
   "source": [
    "import numpy as np\n",
    "import numpy.ma as ma\n",
    "from numba import njit\n",
    "import matplotlib.pyplot as plt\n",
    "from IPython.display import display"
   ]
  },
  {
   "cell_type": "markdown",
   "id": "774ccdf4-a639-4d7a-81c6-96d4b9481591",
   "metadata": {
    "jp-MarkdownHeadingCollapsed": true,
    "tags": []
   },
   "source": [
    "# 1"
   ]
  },
  {
   "cell_type": "markdown",
   "id": "0a806a70-efac-4ab7-a69c-22417da0f11b",
   "metadata": {},
   "source": [
    "1. Создайте массив длины 10, заполненный нулями\n",
    "2. Сделайте полученный массив неизменяемым"
   ]
  },
  {
   "cell_type": "code",
   "execution_count": 2,
   "id": "51bd9add-cb56-4113-944f-c14d21567048",
   "metadata": {
    "execution": {
     "iopub.execute_input": "2023-06-07T18:08:19.437041Z",
     "iopub.status.busy": "2023-06-07T18:08:19.436811Z",
     "iopub.status.idle": "2023-06-07T18:08:19.684789Z",
     "shell.execute_reply": "2023-06-07T18:08:19.683715Z",
     "shell.execute_reply.started": "2023-06-07T18:08:19.437018Z"
    },
    "tags": []
   },
   "outputs": [
    {
     "ename": "ValueError",
     "evalue": "assignment destination is read-only",
     "output_type": "error",
     "traceback": [
      "\u001b[0;31m---------------------------------------------------------------------------\u001b[0m",
      "\u001b[0;31mValueError\u001b[0m                                Traceback (most recent call last)",
      "Cell \u001b[0;32mIn[2], line 3\u001b[0m\n\u001b[1;32m      1\u001b[0m arr \u001b[38;5;241m=\u001b[39m np\u001b[38;5;241m.\u001b[39marange(\u001b[38;5;241m10\u001b[39m)\n\u001b[1;32m      2\u001b[0m arr\u001b[38;5;241m.\u001b[39mflags\u001b[38;5;241m.\u001b[39mwriteable \u001b[38;5;241m=\u001b[39m \u001b[38;5;28;01mFalse\u001b[39;00m\n\u001b[0;32m----> 3\u001b[0m \u001b[43marr\u001b[49m\u001b[43m[\u001b[49m\u001b[38;5;241;43m0\u001b[39;49m\u001b[43m]\u001b[49m \u001b[38;5;241m=\u001b[39m \u001b[38;5;241m2\u001b[39m\n",
      "\u001b[0;31mValueError\u001b[0m: assignment destination is read-only"
     ]
    }
   ],
   "source": [
    "arr = np.arange(10)\n",
    "arr.flags.writeable = False\n",
    "arr[0] = 2"
   ]
  },
  {
   "cell_type": "markdown",
   "id": "79fed845-6ab6-4388-809c-735467947cf5",
   "metadata": {},
   "source": [
    "## 1.1"
   ]
  },
  {
   "cell_type": "markdown",
   "id": "06ed41fb-0ce2-482c-8d38-0eae8ce928ed",
   "metadata": {},
   "source": [
    "Чем отличается C_CONTIGUOUS от F_CONTIGUOUS"
   ]
  },
  {
   "cell_type": "code",
   "execution_count": 7,
   "id": "e57fb906-5058-4a3c-bb78-bf2e8facad76",
   "metadata": {
    "execution": {
     "iopub.execute_input": "2023-06-07T18:13:48.271929Z",
     "iopub.status.busy": "2023-06-07T18:13:48.271328Z",
     "iopub.status.idle": "2023-06-07T18:13:48.280177Z",
     "shell.execute_reply": "2023-06-07T18:13:48.278322Z",
     "shell.execute_reply.started": "2023-06-07T18:13:48.271874Z"
    },
    "tags": []
   },
   "outputs": [
    {
     "name": "stdout",
     "output_type": "stream",
     "text": [
      "  C_CONTIGUOUS : True\n",
      "  F_CONTIGUOUS : True\n",
      "  OWNDATA : True\n",
      "  WRITEABLE : True\n",
      "  ALIGNED : True\n",
      "  WRITEBACKIFCOPY : False\n",
      "\n"
     ]
    }
   ],
   "source": [
    "arr = np.arange(10)\n",
    "print(arr.flags)"
   ]
  },
  {
   "cell_type": "code",
   "execution_count": 8,
   "id": "1275d17d-f838-4954-9bcd-722f69ff63ce",
   "metadata": {
    "execution": {
     "iopub.execute_input": "2023-06-07T18:13:49.392735Z",
     "iopub.status.busy": "2023-06-07T18:13:49.392162Z",
     "iopub.status.idle": "2023-06-07T18:13:49.401238Z",
     "shell.execute_reply": "2023-06-07T18:13:49.399766Z",
     "shell.execute_reply.started": "2023-06-07T18:13:49.392682Z"
    },
    "tags": []
   },
   "outputs": [
    {
     "name": "stdout",
     "output_type": "stream",
     "text": [
      "[[0 1 2 3 4]\n",
      " [5 6 7 8 9]]\n",
      "  C_CONTIGUOUS : True\n",
      "  F_CONTIGUOUS : False\n",
      "  OWNDATA : False\n",
      "  WRITEABLE : True\n",
      "  ALIGNED : True\n",
      "  WRITEBACKIFCOPY : False\n",
      "\n"
     ]
    }
   ],
   "source": [
    "arr = arr.reshape((2,5))\n",
    "print(arr)\n",
    "print(arr.flags)"
   ]
  },
  {
   "cell_type": "code",
   "execution_count": 9,
   "id": "c8e52337-89bc-4590-a4d3-65da728f7096",
   "metadata": {
    "execution": {
     "iopub.execute_input": "2023-06-07T18:13:51.905047Z",
     "iopub.status.busy": "2023-06-07T18:13:51.903712Z",
     "iopub.status.idle": "2023-06-07T18:13:51.913204Z",
     "shell.execute_reply": "2023-06-07T18:13:51.911488Z",
     "shell.execute_reply.started": "2023-06-07T18:13:51.904989Z"
    },
    "tags": []
   },
   "outputs": [
    {
     "name": "stdout",
     "output_type": "stream",
     "text": [
      "[[0 5]\n",
      " [1 6]\n",
      " [2 7]\n",
      " [3 8]\n",
      " [4 9]]\n",
      "  C_CONTIGUOUS : False\n",
      "  F_CONTIGUOUS : True\n",
      "  OWNDATA : False\n",
      "  WRITEABLE : True\n",
      "  ALIGNED : True\n",
      "  WRITEBACKIFCOPY : False\n",
      "\n"
     ]
    }
   ],
   "source": [
    "arr = arr.T\n",
    "print(arr)\n",
    "print(arr.flags)"
   ]
  },
  {
   "cell_type": "code",
   "execution_count": 10,
   "id": "1b5ae1fb-434b-4766-abd6-a3810d8c3e90",
   "metadata": {
    "execution": {
     "iopub.execute_input": "2023-06-07T18:13:58.515514Z",
     "iopub.status.busy": "2023-06-07T18:13:58.514947Z",
     "iopub.status.idle": "2023-06-07T18:13:58.524513Z",
     "shell.execute_reply": "2023-06-07T18:13:58.522676Z",
     "shell.execute_reply.started": "2023-06-07T18:13:58.515461Z"
    },
    "tags": []
   },
   "outputs": [
    {
     "name": "stdout",
     "output_type": "stream",
     "text": [
      "[[5 0]\n",
      " [6 1]\n",
      " [7 2]\n",
      " [8 3]\n",
      " [9 4]]\n",
      "  C_CONTIGUOUS : False\n",
      "  F_CONTIGUOUS : False\n",
      "  OWNDATA : False\n",
      "  WRITEABLE : True\n",
      "  ALIGNED : True\n",
      "  WRITEBACKIFCOPY : False\n",
      "\n"
     ]
    }
   ],
   "source": [
    "arr = arr[:, ::-1]\n",
    "print(arr)\n",
    "print(arr.flags)"
   ]
  },
  {
   "cell_type": "markdown",
   "id": "b4b9ad2d-373b-457c-9b8f-85bc9a68506b",
   "metadata": {
    "jp-MarkdownHeadingCollapsed": true,
    "tags": []
   },
   "source": [
    "# 2"
   ]
  },
  {
   "cell_type": "markdown",
   "id": "de6da98c-5900-4a67-a01b-566d55380bca",
   "metadata": {},
   "source": [
    "1. Создайте массив, содержащий 5 равноотстоящих точек, покрывающих диапазон от 0 до 2*pi\n",
    "2. Создайте массив, содержащий 5 равноотстоящих в логарифмическом масштабе точек, покрывающих диапазон от 10 до 100\n",
    "3. Составьте из полученных массивов координатную сеть (meshgrid)"
   ]
  },
  {
   "cell_type": "code",
   "execution_count": 236,
   "id": "c7ed6c1f-bb7b-4295-a38e-2287d17f4929",
   "metadata": {
    "execution": {
     "iopub.execute_input": "2023-06-08T13:28:30.963652Z",
     "iopub.status.busy": "2023-06-08T13:28:30.962632Z",
     "iopub.status.idle": "2023-06-08T13:28:30.974814Z",
     "shell.execute_reply": "2023-06-08T13:28:30.973214Z",
     "shell.execute_reply.started": "2023-06-08T13:28:30.963568Z"
    },
    "tags": []
   },
   "outputs": [
    {
     "data": {
      "text/plain": [
       "array([-5.        , -3.88888889, -2.77777778, -1.66666667, -0.55555556,\n",
       "        0.55555556,  1.66666667,  2.77777778,  3.88888889,  5.        ])"
      ]
     },
     "execution_count": 236,
     "metadata": {},
     "output_type": "execute_result"
    }
   ],
   "source": [
    "arr_lin = np.linspace(start=-5, stop=5, num=10)\n",
    "arr_lin"
   ]
  },
  {
   "cell_type": "code",
   "execution_count": 237,
   "id": "e589e976-f2d9-4a76-9468-4cb656d37162",
   "metadata": {
    "execution": {
     "iopub.execute_input": "2023-06-08T13:28:31.871997Z",
     "iopub.status.busy": "2023-06-08T13:28:31.871408Z",
     "iopub.status.idle": "2023-06-08T13:28:31.882949Z",
     "shell.execute_reply": "2023-06-08T13:28:31.881573Z",
     "shell.execute_reply.started": "2023-06-08T13:28:31.871942Z"
    },
    "tags": []
   },
   "outputs": [
    {
     "data": {
      "text/plain": [
       "array([-5.        , -3.88888889, -2.77777778, -1.66666667, -0.55555556,\n",
       "        0.55555556,  1.66666667,  2.77777778,  3.88888889,  5.        ])"
      ]
     },
     "execution_count": 237,
     "metadata": {},
     "output_type": "execute_result"
    }
   ],
   "source": [
    "arr_lin2 = np.linspace(start=-5, stop=5, num=10)\n",
    "arr_lin2"
   ]
  },
  {
   "cell_type": "code",
   "execution_count": 241,
   "id": "7ec1a4b9-a966-4b59-b100-8f50d3e2aa07",
   "metadata": {
    "execution": {
     "iopub.execute_input": "2023-06-08T13:30:33.182659Z",
     "iopub.status.busy": "2023-06-08T13:30:33.182086Z",
     "iopub.status.idle": "2023-06-08T13:30:33.191767Z",
     "shell.execute_reply": "2023-06-08T13:30:33.190251Z",
     "shell.execute_reply.started": "2023-06-08T13:30:33.182605Z"
    },
    "tags": []
   },
   "outputs": [
    {
     "name": "stdout",
     "output_type": "stream",
     "text": [
      "(10, 1) (1, 10)\n"
     ]
    }
   ],
   "source": [
    "meshgrid_ij = np.meshgrid(arr_lin, arr_lin2, indexing='ij', sparse=True)\n",
    "x, y = meshgrid_ij\n",
    "print(x.shape, y.shape)"
   ]
  },
  {
   "cell_type": "code",
   "execution_count": 242,
   "id": "98ce01b0-a655-4175-bff6-924c765b8bb4",
   "metadata": {
    "execution": {
     "iopub.execute_input": "2023-06-08T13:30:34.345511Z",
     "iopub.status.busy": "2023-06-08T13:30:34.344946Z",
     "iopub.status.idle": "2023-06-08T13:30:34.352590Z",
     "shell.execute_reply": "2023-06-08T13:30:34.350969Z",
     "shell.execute_reply.started": "2023-06-08T13:30:34.345458Z"
    },
    "tags": []
   },
   "outputs": [],
   "source": [
    "def f(x, y):\n",
    "    return x**2 + y**2"
   ]
  },
  {
   "cell_type": "code",
   "execution_count": 243,
   "id": "7ace7264-f348-44ef-b5be-c62ca2d4a8b4",
   "metadata": {
    "execution": {
     "iopub.execute_input": "2023-06-08T13:30:35.179740Z",
     "iopub.status.busy": "2023-06-08T13:30:35.178462Z",
     "iopub.status.idle": "2023-06-08T13:30:35.191589Z",
     "shell.execute_reply": "2023-06-08T13:30:35.190006Z",
     "shell.execute_reply.started": "2023-06-08T13:30:35.179681Z"
    },
    "tags": []
   },
   "outputs": [
    {
     "data": {
      "text/plain": [
       "array([[50.        , 40.12345679, 32.71604938, 27.77777778, 25.30864198,\n",
       "        25.30864198, 27.77777778, 32.71604938, 40.12345679, 50.        ],\n",
       "       [40.12345679, 30.24691358, 22.83950617, 17.90123457, 15.43209877,\n",
       "        15.43209877, 17.90123457, 22.83950617, 30.24691358, 40.12345679],\n",
       "       [32.71604938, 22.83950617, 15.43209877, 10.49382716,  8.02469136,\n",
       "         8.02469136, 10.49382716, 15.43209877, 22.83950617, 32.71604938],\n",
       "       [27.77777778, 17.90123457, 10.49382716,  5.55555556,  3.08641975,\n",
       "         3.08641975,  5.55555556, 10.49382716, 17.90123457, 27.77777778],\n",
       "       [25.30864198, 15.43209877,  8.02469136,  3.08641975,  0.61728395,\n",
       "         0.61728395,  3.08641975,  8.02469136, 15.43209877, 25.30864198],\n",
       "       [25.30864198, 15.43209877,  8.02469136,  3.08641975,  0.61728395,\n",
       "         0.61728395,  3.08641975,  8.02469136, 15.43209877, 25.30864198],\n",
       "       [27.77777778, 17.90123457, 10.49382716,  5.55555556,  3.08641975,\n",
       "         3.08641975,  5.55555556, 10.49382716, 17.90123457, 27.77777778],\n",
       "       [32.71604938, 22.83950617, 15.43209877, 10.49382716,  8.02469136,\n",
       "         8.02469136, 10.49382716, 15.43209877, 22.83950617, 32.71604938],\n",
       "       [40.12345679, 30.24691358, 22.83950617, 17.90123457, 15.43209877,\n",
       "        15.43209877, 17.90123457, 22.83950617, 30.24691358, 40.12345679],\n",
       "       [50.        , 40.12345679, 32.71604938, 27.77777778, 25.30864198,\n",
       "        25.30864198, 27.77777778, 32.71604938, 40.12345679, 50.        ]])"
      ]
     },
     "execution_count": 243,
     "metadata": {},
     "output_type": "execute_result"
    }
   ],
   "source": [
    "f(x, y)"
   ]
  },
  {
   "cell_type": "code",
   "execution_count": 25,
   "id": "16ae4717-6375-461a-8433-276020266f5f",
   "metadata": {
    "execution": {
     "iopub.execute_input": "2023-06-07T18:36:20.515259Z",
     "iopub.status.busy": "2023-06-07T18:36:20.513934Z",
     "iopub.status.idle": "2023-06-07T18:36:20.524367Z",
     "shell.execute_reply": "2023-06-07T18:36:20.522534Z",
     "shell.execute_reply.started": "2023-06-07T18:36:20.515202Z"
    },
    "tags": []
   },
   "outputs": [
    {
     "name": "stdout",
     "output_type": "stream",
     "text": [
      "(6, 5, 10) (6, 5, 10) (6, 5, 10)\n"
     ]
    }
   ],
   "source": [
    "meshgrid_xy = np.meshgrid(arr_log, arr_lin, arr_lin2, indexing='xy')\n",
    "x, y, z = meshgrid_xy\n",
    "print(x.shape, y.shape, z.shape)"
   ]
  },
  {
   "cell_type": "code",
   "execution_count": 28,
   "id": "e5858f3c-521f-4cc3-979b-f2b9dbb381a7",
   "metadata": {
    "execution": {
     "iopub.execute_input": "2023-06-07T18:42:35.207692Z",
     "iopub.status.busy": "2023-06-07T18:42:35.207089Z",
     "iopub.status.idle": "2023-06-07T18:42:35.219646Z",
     "shell.execute_reply": "2023-06-07T18:42:35.218140Z",
     "shell.execute_reply.started": "2023-06-07T18:42:35.207634Z"
    },
    "tags": []
   },
   "outputs": [
    {
     "name": "stdout",
     "output_type": "stream",
     "text": [
      "(1, 5, 1) (6, 1, 1) (1, 1, 10)\n",
      "[[[ 10.        ]\n",
      "  [ 17.7827941 ]\n",
      "  [ 31.6227766 ]\n",
      "  [ 56.23413252]\n",
      "  [100.        ]]]\n",
      "[[[0.        ]]\n",
      "\n",
      " [[1.25663706]]\n",
      "\n",
      " [[2.51327412]]\n",
      "\n",
      " [[3.76991118]]\n",
      "\n",
      " [[5.02654825]]\n",
      "\n",
      " [[6.28318531]]]\n",
      "[[[-1.         -0.77777778 -0.55555556 -0.33333333 -0.11111111\n",
      "    0.11111111  0.33333333  0.55555556  0.77777778  1.        ]]]\n"
     ]
    }
   ],
   "source": [
    "meshgrid_xy = np.meshgrid(arr_log, arr_lin, arr_lin2, indexing='xy', sparse=True)\n",
    "x, y, z = meshgrid_xy\n",
    "print(x.shape, y.shape, z.shape)\n",
    "print(x)\n",
    "print(y)\n",
    "print(z)"
   ]
  },
  {
   "cell_type": "markdown",
   "id": "c70dfc83-90db-4f4d-b960-f06bd510d0d9",
   "metadata": {
    "jp-MarkdownHeadingCollapsed": true,
    "tags": []
   },
   "source": [
    "# 3"
   ]
  },
  {
   "cell_type": "markdown",
   "id": "49d91289-59b1-4675-8ae5-4f5e7d6b7864",
   "metadata": {},
   "source": [
    "Создайте двумерный массив 5х5 с элементами 1, 2, 3 и 4 под главной диагональю, остальные элементы заполните нулями"
   ]
  },
  {
   "cell_type": "code",
   "execution_count": 23,
   "id": "5c4a075f-5609-4537-a766-99c8063be8fc",
   "metadata": {
    "execution": {
     "iopub.execute_input": "2023-06-07T18:33:47.061021Z",
     "iopub.status.busy": "2023-06-07T18:33:47.060446Z",
     "iopub.status.idle": "2023-06-07T18:33:47.072029Z",
     "shell.execute_reply": "2023-06-07T18:33:47.070415Z",
     "shell.execute_reply.started": "2023-06-07T18:33:47.060968Z"
    },
    "tags": []
   },
   "outputs": [
    {
     "data": {
      "text/plain": [
       "array([[0, 0, 0, 0, 0],\n",
       "       [1, 0, 0, 0, 0],\n",
       "       [0, 2, 0, 0, 0],\n",
       "       [0, 0, 3, 0, 0],\n",
       "       [0, 0, 0, 4, 0]])"
      ]
     },
     "execution_count": 23,
     "metadata": {},
     "output_type": "execute_result"
    }
   ],
   "source": [
    "arr = np.diag(np.arange(1, 5), k=-1)\n",
    "arr"
   ]
  },
  {
   "cell_type": "markdown",
   "id": "0c1ddc47-5377-4f2d-855d-658afd721597",
   "metadata": {
    "jp-MarkdownHeadingCollapsed": true,
    "tags": []
   },
   "source": [
    "# 4"
   ]
  },
  {
   "cell_type": "markdown",
   "id": "c30edebe-2667-4fb7-b921-25dac24c9931",
   "metadata": {},
   "source": [
    "1. Создайте функцию-генератор, последовательно возвращающую целые числа от 0 до 9\n",
    "2. Создайте массив из построенного генератора"
   ]
  },
  {
   "cell_type": "code",
   "execution_count": 322,
   "id": "b1623884-b6d5-4ad5-84aa-929301abc50a",
   "metadata": {
    "execution": {
     "iopub.execute_input": "2023-06-14T12:25:32.560765Z",
     "iopub.status.busy": "2023-06-14T12:25:32.560123Z",
     "iopub.status.idle": "2023-06-14T12:25:32.569037Z",
     "shell.execute_reply": "2023-06-14T12:25:32.567292Z",
     "shell.execute_reply.started": "2023-06-14T12:25:32.560707Z"
    },
    "tags": []
   },
   "outputs": [],
   "source": [
    "def gen(n):\n",
    "    for i in range(n + 1):\n",
    "        yield i"
   ]
  },
  {
   "cell_type": "code",
   "execution_count": 327,
   "id": "31cad5ee-f508-4089-a063-f39a537eeb66",
   "metadata": {
    "execution": {
     "iopub.execute_input": "2023-06-14T12:26:44.491289Z",
     "iopub.status.busy": "2023-06-14T12:26:44.491055Z",
     "iopub.status.idle": "2023-06-14T12:26:49.888539Z",
     "shell.execute_reply": "2023-06-14T12:26:49.887475Z",
     "shell.execute_reply.started": "2023-06-14T12:26:44.491269Z"
    },
    "tags": []
   },
   "outputs": [
    {
     "name": "stdout",
     "output_type": "stream",
     "text": [
      "6.54 µs ± 9.08 ns per loop (mean ± std. dev. of 7 runs, 100,000 loops each)\n"
     ]
    }
   ],
   "source": [
    "%%timeit\n",
    "arr1 = np.fromiter(gen(100), dtype=np.int32, count=101)"
   ]
  },
  {
   "cell_type": "code",
   "execution_count": 328,
   "id": "82afdcf0-613d-44ea-830e-79aa00ac610d",
   "metadata": {
    "execution": {
     "iopub.execute_input": "2023-06-14T12:26:49.889923Z",
     "iopub.status.busy": "2023-06-14T12:26:49.889732Z",
     "iopub.status.idle": "2023-06-14T12:26:58.123772Z",
     "shell.execute_reply": "2023-06-14T12:26:58.122796Z",
     "shell.execute_reply.started": "2023-06-14T12:26:49.889905Z"
    },
    "tags": []
   },
   "outputs": [
    {
     "name": "stdout",
     "output_type": "stream",
     "text": [
      "10.1 µs ± 21.3 ns per loop (mean ± std. dev. of 7 runs, 100,000 loops each)\n"
     ]
    }
   ],
   "source": [
    "%%timeit\n",
    "arr2 = np.array([i for i in gen(100)], dtype=np.int32)"
   ]
  },
  {
   "cell_type": "markdown",
   "id": "d7ee30f1-c5a9-4c6d-8b01-c7b106313e6c",
   "metadata": {
    "jp-MarkdownHeadingCollapsed": true,
    "tags": []
   },
   "source": [
    "# 5"
   ]
  },
  {
   "cell_type": "markdown",
   "id": "9482afc3-97b1-4016-8dbe-dca46e0530d2",
   "metadata": {},
   "source": [
    "Что будет выведено на экран? \n",
    "```\n",
    "a = np.arange(4).reshape(2,2)\n",
    "a += 0.5\n",
    "print(a)\n",
    "```"
   ]
  },
  {
   "cell_type": "code",
   "execution_count": 55,
   "id": "3ed19bf3-1f29-410a-8fbf-c7330030b4e5",
   "metadata": {
    "execution": {
     "iopub.execute_input": "2023-06-08T08:34:38.051169Z",
     "iopub.status.busy": "2023-06-08T08:34:38.050588Z",
     "iopub.status.idle": "2023-06-08T08:34:38.101604Z",
     "shell.execute_reply": "2023-06-08T08:34:38.099499Z",
     "shell.execute_reply.started": "2023-06-08T08:34:38.051113Z"
    },
    "tags": []
   },
   "outputs": [
    {
     "ename": "UFuncTypeError",
     "evalue": "Cannot cast ufunc 'add' output from dtype('float64') to dtype('int64') with casting rule 'same_kind'",
     "output_type": "error",
     "traceback": [
      "\u001b[0;31m---------------------------------------------------------------------------\u001b[0m",
      "\u001b[0;31mUFuncTypeError\u001b[0m                            Traceback (most recent call last)",
      "Cell \u001b[0;32mIn[55], line 2\u001b[0m\n\u001b[1;32m      1\u001b[0m a \u001b[38;5;241m=\u001b[39m np\u001b[38;5;241m.\u001b[39marange(\u001b[38;5;241m4\u001b[39m)\u001b[38;5;241m.\u001b[39mreshape(\u001b[38;5;241m2\u001b[39m,\u001b[38;5;241m2\u001b[39m) \u001b[38;5;66;03m# без dtype=np.float64 кинет ошибку, потому что разные типы\u001b[39;00m\n\u001b[0;32m----> 2\u001b[0m a \u001b[38;5;241m+\u001b[39m\u001b[38;5;241m=\u001b[39m \u001b[38;5;241m0.5\u001b[39m\n\u001b[1;32m      3\u001b[0m \u001b[38;5;28mprint\u001b[39m(a)\n",
      "\u001b[0;31mUFuncTypeError\u001b[0m: Cannot cast ufunc 'add' output from dtype('float64') to dtype('int64') with casting rule 'same_kind'"
     ]
    }
   ],
   "source": [
    "a = np.arange(4).reshape(2,2) # без dtype=np.float64 кинет ошибку, потому что разные типы\n",
    "a += 0.5 # inplace operation\n",
    "print(a)"
   ]
  },
  {
   "cell_type": "code",
   "execution_count": 65,
   "id": "65684525-a87d-4539-93a4-cb2eb8129d8d",
   "metadata": {
    "execution": {
     "iopub.execute_input": "2023-06-08T08:40:06.989216Z",
     "iopub.status.busy": "2023-06-08T08:40:06.988636Z",
     "iopub.status.idle": "2023-06-08T08:40:06.998688Z",
     "shell.execute_reply": "2023-06-08T08:40:06.996898Z",
     "shell.execute_reply.started": "2023-06-08T08:40:06.989162Z"
    },
    "tags": []
   },
   "outputs": [
    {
     "name": "stdout",
     "output_type": "stream",
     "text": [
      "[[0.5 1.5]\n",
      " [2.5 3.5]]\n"
     ]
    }
   ],
   "source": [
    "a = np.arange(4).reshape(2,2) # без dtype=np.float64 кинет ошибку, потому что разные типы\n",
    "a = a + 0.5\n",
    "print(a)"
   ]
  },
  {
   "cell_type": "code",
   "execution_count": 66,
   "id": "98b316f8-4b9d-47b6-ae0f-8fded66a6894",
   "metadata": {
    "execution": {
     "iopub.execute_input": "2023-06-08T08:42:53.965119Z",
     "iopub.status.busy": "2023-06-08T08:42:53.963756Z",
     "iopub.status.idle": "2023-06-08T08:42:54.080637Z",
     "shell.execute_reply": "2023-06-08T08:42:54.079079Z",
     "shell.execute_reply.started": "2023-06-08T08:42:53.965061Z"
    },
    "tags": []
   },
   "outputs": [
    {
     "ename": "UFuncTypeError",
     "evalue": "Cannot cast ufunc 'add' output from dtype('float64') to dtype('int64') with casting rule 'same_kind'",
     "output_type": "error",
     "traceback": [
      "\u001b[0;31m---------------------------------------------------------------------------\u001b[0m",
      "\u001b[0;31mUFuncTypeError\u001b[0m                            Traceback (most recent call last)",
      "Cell \u001b[0;32mIn[66], line 2\u001b[0m\n\u001b[1;32m      1\u001b[0m a \u001b[38;5;241m=\u001b[39m np\u001b[38;5;241m.\u001b[39marange(\u001b[38;5;241m4\u001b[39m)\u001b[38;5;241m.\u001b[39mreshape(\u001b[38;5;241m2\u001b[39m,\u001b[38;5;241m2\u001b[39m) \u001b[38;5;66;03m# без dtype=np.float64 кинет ошибку, потому что разные типы\u001b[39;00m\n\u001b[0;32m----> 2\u001b[0m \u001b[43ma\u001b[49m\u001b[38;5;241;43m.\u001b[39;49m\u001b[38;5;21;43m__iadd__\u001b[39;49m\u001b[43m(\u001b[49m\u001b[38;5;241;43m0.5\u001b[39;49m\u001b[43m)\u001b[49m\n\u001b[1;32m      3\u001b[0m \u001b[38;5;28mprint\u001b[39m(a)\n",
      "\u001b[0;31mUFuncTypeError\u001b[0m: Cannot cast ufunc 'add' output from dtype('float64') to dtype('int64') with casting rule 'same_kind'"
     ]
    }
   ],
   "source": [
    "a = np.arange(4).reshape(2,2)\n",
    "a.__iadd__(0.5)\n",
    "print(a)"
   ]
  },
  {
   "cell_type": "markdown",
   "id": "712428f3-f747-4141-b836-46f77f7fdb95",
   "metadata": {
    "jp-MarkdownHeadingCollapsed": true,
    "tags": []
   },
   "source": [
    "# 6"
   ]
  },
  {
   "cell_type": "markdown",
   "id": "43954a1b-4979-4dd8-aaad-c86d7934df5e",
   "metadata": {},
   "source": [
    "Что будет выведено на экран?\n",
    "```\n",
    "a = np.array([1])\n",
    "if a:\n",
    "    print(\"True\")\n",
    "else:\n",
    "    print(\"False\")\n",
    "a = np.array([1, 2, 3])\n",
    "if a:\n",
    "    print(\"True\")\n",
    "else:\n",
    "    print(\"False\")\n",
    "```"
   ]
  },
  {
   "cell_type": "code",
   "execution_count": 57,
   "id": "54dd71de-95c8-469e-8c01-a67975ff4fd4",
   "metadata": {
    "execution": {
     "iopub.execute_input": "2023-06-05T10:24:20.919144Z",
     "iopub.status.busy": "2023-06-05T10:24:20.918584Z",
     "iopub.status.idle": "2023-06-05T10:24:20.973066Z",
     "shell.execute_reply": "2023-06-05T10:24:20.970626Z",
     "shell.execute_reply.started": "2023-06-05T10:24:20.919092Z"
    },
    "tags": []
   },
   "outputs": [
    {
     "ename": "ValueError",
     "evalue": "The truth value of an array with more than one element is ambiguous. Use a.any() or a.all()",
     "output_type": "error",
     "traceback": [
      "\u001b[0;31m---------------------------------------------------------------------------\u001b[0m",
      "\u001b[0;31mValueError\u001b[0m                                Traceback (most recent call last)",
      "Cell \u001b[0;32mIn[57], line 2\u001b[0m\n\u001b[1;32m      1\u001b[0m a \u001b[38;5;241m=\u001b[39m np\u001b[38;5;241m.\u001b[39marray([\u001b[38;5;241m1\u001b[39m, \u001b[38;5;241m2\u001b[39m, \u001b[38;5;241m3\u001b[39m])\n\u001b[0;32m----> 2\u001b[0m \u001b[38;5;28;43mbool\u001b[39;49m\u001b[43m(\u001b[49m\u001b[43ma\u001b[49m\u001b[43m)\u001b[49m\n",
      "\u001b[0;31mValueError\u001b[0m: The truth value of an array with more than one element is ambiguous. Use a.any() or a.all()"
     ]
    }
   ],
   "source": [
    "a = np.array([1, 2, 3])\n",
    "bool(a)"
   ]
  },
  {
   "cell_type": "code",
   "execution_count": 74,
   "id": "f1d02183-59c4-4920-88fa-dcf63c7af2ed",
   "metadata": {
    "execution": {
     "iopub.execute_input": "2023-06-08T09:04:00.867347Z",
     "iopub.status.busy": "2023-06-08T09:04:00.866773Z",
     "iopub.status.idle": "2023-06-08T09:04:00.877182Z",
     "shell.execute_reply": "2023-06-08T09:04:00.875671Z",
     "shell.execute_reply.started": "2023-06-08T09:04:00.867292Z"
    },
    "tags": []
   },
   "outputs": [
    {
     "name": "stdout",
     "output_type": "stream",
     "text": [
      "True\n",
      "False\n",
      "False\n"
     ]
    },
    {
     "name": "stderr",
     "output_type": "stream",
     "text": [
      "/tmp/ipykernel_1467099/2309888753.py:3: DeprecationWarning: The truth value of an empty array is ambiguous. Returning False, but in future this will result in an error. Use `array.size > 0` to check that an array is not empty.\n",
      "  print(bool(np.array([])))\n"
     ]
    }
   ],
   "source": [
    "print(bool(np.array([1])))\n",
    "print(bool(np.array([0])))\n",
    "print(bool(np.array([])))"
   ]
  },
  {
   "cell_type": "markdown",
   "id": "44b7ff29-4b4b-49db-9288-5e9a51d6490b",
   "metadata": {
    "jp-MarkdownHeadingCollapsed": true,
    "tags": []
   },
   "source": [
    "# 7"
   ]
  },
  {
   "cell_type": "markdown",
   "id": "2093759d-db44-44d6-8777-9a2ced397d7b",
   "metadata": {},
   "source": [
    "\"Что будет выведено на экран?\n",
    "```\n",
    "print(0 * np.nan)\n",
    "print(np.nan - np.nan)\n",
    "print(np.nan == np.nan)\n",
    "print(np.nan is np.nan)\n",
    "print(-np.inf < np.nan < np.inf)\n",
    "```"
   ]
  },
  {
   "cell_type": "code",
   "execution_count": 208,
   "id": "4d0f4b9b-7f02-4b07-9f45-9b4cca046736",
   "metadata": {
    "execution": {
     "iopub.execute_input": "2023-06-05T14:01:16.862274Z",
     "iopub.status.busy": "2023-06-05T14:01:16.861717Z",
     "iopub.status.idle": "2023-06-05T14:01:16.872301Z",
     "shell.execute_reply": "2023-06-05T14:01:16.870474Z",
     "shell.execute_reply.started": "2023-06-05T14:01:16.862224Z"
    },
    "tags": []
   },
   "outputs": [
    {
     "name": "stdout",
     "output_type": "stream",
     "text": [
      "nan\n",
      "nan\n",
      "False\n",
      "True\n",
      "False\n"
     ]
    }
   ],
   "source": [
    "print(0 * np.nan)\n",
    "print(np.nan - np.nan)\n",
    "print(np.nan == np.nan)\n",
    "print(np.nan is np.nan)\n",
    "print(-np.inf < np.nan < np.inf)"
   ]
  },
  {
   "cell_type": "code",
   "execution_count": 226,
   "id": "a397aec0-15f5-44dc-8405-6f4d6ac81bbd",
   "metadata": {
    "execution": {
     "iopub.execute_input": "2023-06-05T14:51:31.224095Z",
     "iopub.status.busy": "2023-06-05T14:51:31.223499Z",
     "iopub.status.idle": "2023-06-05T14:51:31.235959Z",
     "shell.execute_reply": "2023-06-05T14:51:31.234317Z",
     "shell.execute_reply.started": "2023-06-05T14:51:31.224041Z"
    },
    "tags": []
   },
   "outputs": [
    {
     "name": "stderr",
     "output_type": "stream",
     "text": [
      "/tmp/ipykernel_1413596/3102600059.py:1: RuntimeWarning: invalid value encountered in scalar divide\n",
      "  x = np.float32(0)/np.float32(0)\n"
     ]
    },
    {
     "data": {
      "text/plain": [
       "False"
      ]
     },
     "execution_count": 226,
     "metadata": {},
     "output_type": "execute_result"
    }
   ],
   "source": [
    "x = np.float32(0)/np.float32(0)\n",
    "y = x\n",
    "x == y"
   ]
  },
  {
   "cell_type": "markdown",
   "id": "06d140cb-7ac7-4a95-a157-546cbdea186d",
   "metadata": {
    "jp-MarkdownHeadingCollapsed": true,
    "tags": []
   },
   "source": [
    "# 8"
   ]
  },
  {
   "cell_type": "markdown",
   "id": "7133a455-fd2b-499f-8b1c-650a676cac22",
   "metadata": {},
   "source": [
    "Что будет выведено на экран?\n",
    "```\n",
    "print(np.isnan(np.array([np.nan]).astype(np.int)))\n",
    "```"
   ]
  },
  {
   "cell_type": "code",
   "execution_count": 107,
   "id": "17fca61b-15a1-457b-ad52-8a04012950f3",
   "metadata": {
    "execution": {
     "iopub.execute_input": "2023-06-05T12:12:03.423789Z",
     "iopub.status.busy": "2023-06-05T12:12:03.423191Z",
     "iopub.status.idle": "2023-06-05T12:12:03.435966Z",
     "shell.execute_reply": "2023-06-05T12:12:03.434304Z",
     "shell.execute_reply.started": "2023-06-05T12:12:03.423735Z"
    },
    "tags": []
   },
   "outputs": [
    {
     "name": "stderr",
     "output_type": "stream",
     "text": [
      "/tmp/ipykernel_1413596/3647518359.py:1: RuntimeWarning: invalid value encountered in cast\n",
      "  np.isnan(np.array([np.nan]).astype(np.int32))\n"
     ]
    },
    {
     "data": {
      "text/plain": [
       "array([False])"
      ]
     },
     "execution_count": 107,
     "metadata": {},
     "output_type": "execute_result"
    }
   ],
   "source": [
    "np.isnan(np.array([np.nan]).astype(np.int32))"
   ]
  },
  {
   "cell_type": "markdown",
   "id": "f2a6435f-a645-4cef-891b-03fa4870f995",
   "metadata": {
    "jp-MarkdownHeadingCollapsed": true,
    "tags": []
   },
   "source": [
    "# 9"
   ]
  },
  {
   "cell_type": "markdown",
   "id": "cc8b78fc-0847-4a25-892d-4f316545106f",
   "metadata": {},
   "source": [
    "1. Создайте масив из четырех элементов: 0, 10, 20, 30\n",
    "2. Создайте двухмерный массив 4x5, в котором первый столбец - массив с шага 1, а каждый элемент каждой строки, начиная со второго,  больше предыдущего элемента этой же строки на 1."
   ]
  },
  {
   "cell_type": "code",
   "execution_count": 100,
   "id": "b8a53e6a-5632-4b98-ba6b-3b41a3a20cce",
   "metadata": {
    "execution": {
     "iopub.execute_input": "2023-06-08T09:30:22.430198Z",
     "iopub.status.busy": "2023-06-08T09:30:22.429942Z",
     "iopub.status.idle": "2023-06-08T09:30:22.437974Z",
     "shell.execute_reply": "2023-06-08T09:30:22.436845Z",
     "shell.execute_reply.started": "2023-06-08T09:30:22.430175Z"
    },
    "tags": []
   },
   "outputs": [
    {
     "data": {
      "text/plain": [
       "array([[ 0,  1,  2,  3,  4],\n",
       "       [10, 11, 12, 13, 14],\n",
       "       [20, 21, 22, 23, 24],\n",
       "       [30, 31, 32, 33, 34]])"
      ]
     },
     "execution_count": 100,
     "metadata": {},
     "output_type": "execute_result"
    }
   ],
   "source": [
    "n = 5\n",
    "a = np.array([0,10,20,30])\n",
    "a = np.repeat(a[:, np.newaxis], n, axis=1)\n",
    "a += np.arange(n)\n",
    "a"
   ]
  },
  {
   "cell_type": "code",
   "execution_count": 251,
   "id": "0850420a-dad1-4789-b422-98767fa2a71e",
   "metadata": {
    "execution": {
     "iopub.execute_input": "2023-06-08T13:53:31.722768Z",
     "iopub.status.busy": "2023-06-08T13:53:31.722160Z",
     "iopub.status.idle": "2023-06-08T13:53:31.732621Z",
     "shell.execute_reply": "2023-06-08T13:53:31.731090Z",
     "shell.execute_reply.started": "2023-06-08T13:53:31.722712Z"
    },
    "tags": []
   },
   "outputs": [
    {
     "name": "stdout",
     "output_type": "stream",
     "text": [
      "[[ 0  1  2  3  4]\n",
      " [10 11 12 13 14]\n",
      " [20 21 22 23 24]\n",
      " [30 31 32 33 34]]\n"
     ]
    }
   ],
   "source": [
    "a = np.array([0,10,20,30])\n",
    "a = a[:, np.newaxis]\n",
    "a = a + np.arange(5)\n",
    "print(a)\n",
    "\n",
    "1 5 8 1\n",
    "  2 5 1 \n",
    "    \n",
    "4 1\n",
    "  5"
   ]
  },
  {
   "cell_type": "markdown",
   "id": "e23adef9-c7e5-4060-b3fe-afc121ae98d3",
   "metadata": {
    "jp-MarkdownHeadingCollapsed": true,
    "tags": []
   },
   "source": [
    "# 10"
   ]
  },
  {
   "cell_type": "markdown",
   "id": "d39e1ff1-f250-4c0b-b06f-454409d5777b",
   "metadata": {},
   "source": [
    "Какой shape будет у результата операции \n",
    "```\n",
    "np.arange(5).reshape(1,-1) + np.arange(5).reshape(-1,1)?\n",
    "```"
   ]
  },
  {
   "cell_type": "code",
   "execution_count": 104,
   "id": "aedddc7d-2a25-4a6b-8a5e-6d3d1aa9dc16",
   "metadata": {
    "execution": {
     "iopub.execute_input": "2023-06-08T09:33:10.722934Z",
     "iopub.status.busy": "2023-06-08T09:33:10.721593Z",
     "iopub.status.idle": "2023-06-08T09:33:10.734381Z",
     "shell.execute_reply": "2023-06-08T09:33:10.732783Z",
     "shell.execute_reply.started": "2023-06-08T09:33:10.722877Z"
    },
    "tags": []
   },
   "outputs": [
    {
     "data": {
      "text/plain": [
       "array([[0, 1, 2, 3, 4],\n",
       "       [1, 2, 3, 4, 5],\n",
       "       [2, 3, 4, 5, 6],\n",
       "       [3, 4, 5, 6, 7],\n",
       "       [4, 5, 6, 7, 8]])"
      ]
     },
     "execution_count": 104,
     "metadata": {},
     "output_type": "execute_result"
    }
   ],
   "source": [
    "a = np.arange(5).reshape(1,-1)\n",
    "b = np.arange(5).reshape(-1,1)\n",
    "a + b"
   ]
  },
  {
   "cell_type": "code",
   "execution_count": 118,
   "id": "2dd6bf62-26b8-48ed-82d9-c5aa54ecff9e",
   "metadata": {
    "execution": {
     "iopub.execute_input": "2023-06-08T09:44:27.984790Z",
     "iopub.status.busy": "2023-06-08T09:44:27.983434Z",
     "iopub.status.idle": "2023-06-08T09:44:28.038934Z",
     "shell.execute_reply": "2023-06-08T09:44:28.037076Z",
     "shell.execute_reply.started": "2023-06-08T09:44:27.984731Z"
    },
    "tags": []
   },
   "outputs": [
    {
     "ename": "ValueError",
     "evalue": "operands could not be broadcast together with shapes (1,5,8,1) (2,5,1) ",
     "output_type": "error",
     "traceback": [
      "\u001b[0;31m---------------------------------------------------------------------------\u001b[0m",
      "\u001b[0;31mValueError\u001b[0m                                Traceback (most recent call last)",
      "Cell \u001b[0;32mIn[118], line 3\u001b[0m\n\u001b[1;32m      1\u001b[0m a \u001b[38;5;241m=\u001b[39m np\u001b[38;5;241m.\u001b[39marange(\u001b[38;5;241m40\u001b[39m)\u001b[38;5;241m.\u001b[39mreshape(\u001b[38;5;241m1\u001b[39m, \u001b[38;5;241m5\u001b[39m, \u001b[38;5;241m8\u001b[39m, \u001b[38;5;241m1\u001b[39m)\n\u001b[1;32m      2\u001b[0m b \u001b[38;5;241m=\u001b[39m np\u001b[38;5;241m.\u001b[39marange(\u001b[38;5;241m10\u001b[39m)\u001b[38;5;241m.\u001b[39mreshape(\u001b[38;5;241m2\u001b[39m, \u001b[38;5;241m5\u001b[39m, \u001b[38;5;241m1\u001b[39m)\n\u001b[0;32m----> 3\u001b[0m (\u001b[43ma\u001b[49m\u001b[43m \u001b[49m\u001b[38;5;241;43m+\u001b[39;49m\u001b[43m \u001b[49m\u001b[43mb\u001b[49m)\u001b[38;5;241m.\u001b[39mshape\n",
      "\u001b[0;31mValueError\u001b[0m: operands could not be broadcast together with shapes (1,5,8,1) (2,5,1) "
     ]
    }
   ],
   "source": [
    "a = np.arange(40).reshape(1, 5, 8, 1)\n",
    "b = np.arange(10).reshape(2, 5, 1)\n",
    "(a + b).shape\n",
    "# broadcast не работает потому что мы идем справа налево в размерностях и в данном случае у нас такие размерности\n",
    "# (1, 5, 8, 1)\n",
    "#    (2, 5, 1)"
   ]
  },
  {
   "cell_type": "markdown",
   "id": "12be313d-8d9c-4e6d-b039-a3b2e17c7b36",
   "metadata": {
    "jp-MarkdownHeadingCollapsed": true,
    "tags": []
   },
   "source": [
    "# 11"
   ]
  },
  {
   "cell_type": "markdown",
   "id": "e70e8bfb-8e7a-4bb4-bd26-2bd9cfe2c166",
   "metadata": {},
   "source": [
    "Создайте двумерный массив 8х8, заполненный 0 и 1 в шахматном порядке"
   ]
  },
  {
   "cell_type": "code",
   "execution_count": null,
   "id": "0c4ca13e-bb44-495f-b2fd-0273728de8ae",
   "metadata": {},
   "outputs": [],
   "source": []
  },
  {
   "cell_type": "code",
   "execution_count": 219,
   "id": "96bac6e8-4cfb-4e19-87fa-b2f6417dc964",
   "metadata": {
    "execution": {
     "iopub.execute_input": "2023-06-22T14:04:09.557825Z",
     "iopub.status.busy": "2023-06-22T14:04:09.557449Z",
     "iopub.status.idle": "2023-06-22T14:04:13.698262Z",
     "shell.execute_reply": "2023-06-22T14:04:13.697198Z",
     "shell.execute_reply.started": "2023-06-22T14:04:09.557803Z"
    },
    "tags": []
   },
   "outputs": [
    {
     "name": "stdout",
     "output_type": "stream",
     "text": [
      "4.88 µs ± 8.92 ns per loop (mean ± std. dev. of 7 runs, 100,000 loops each)\n"
     ]
    }
   ],
   "source": [
    "%%timeit\n",
    "a = np.zeros((100,100))\n",
    "a[0::2, 1::2] = 1\n",
    "a[1::2, 0::2] = 1\n",
    "a"
   ]
  },
  {
   "cell_type": "code",
   "execution_count": 221,
   "id": "c84cce00-bb7e-4c7a-9ff8-c8d198e8afbf",
   "metadata": {
    "execution": {
     "iopub.execute_input": "2023-06-22T14:04:57.025935Z",
     "iopub.status.busy": "2023-06-22T14:04:57.025663Z",
     "iopub.status.idle": "2023-06-22T14:04:57.034953Z",
     "shell.execute_reply": "2023-06-22T14:04:57.033369Z",
     "shell.execute_reply.started": "2023-06-22T14:04:57.025908Z"
    },
    "tags": []
   },
   "outputs": [
    {
     "data": {
      "text/plain": [
       "array([[0, 1, 0, ..., 1, 0, 1],\n",
       "       [1, 0, 1, ..., 0, 1, 0],\n",
       "       [0, 1, 0, ..., 1, 0, 1],\n",
       "       ...,\n",
       "       [1, 0, 1, ..., 0, 1, 0],\n",
       "       [0, 1, 0, ..., 1, 0, 1],\n",
       "       [1, 0, 1, ..., 0, 1, 0]])"
      ]
     },
     "execution_count": 221,
     "metadata": {},
     "output_type": "execute_result"
    }
   ],
   "source": [
    "\n",
    "(np.arange(100)[:, np.newaxis] + np.arange(100)) % 2"
   ]
  },
  {
   "cell_type": "markdown",
   "id": "4393a276-c3f6-4d42-9d68-169d455ac94b",
   "metadata": {
    "jp-MarkdownHeadingCollapsed": true,
    "tags": []
   },
   "source": [
    "# 12"
   ]
  },
  {
   "cell_type": "markdown",
   "id": "b406177d-9f60-4c93-bd4c-ec5030b984a2",
   "metadata": {},
   "source": [
    "1. Создайте одномерный массив целых чисел от 1 до 5\n",
    "2. Вставьте 0 между каждой парой соседних элементов"
   ]
  },
  {
   "cell_type": "code",
   "execution_count": 94,
   "id": "8624ccc2-4e41-4908-8a43-12f4e9592b08",
   "metadata": {
    "execution": {
     "iopub.execute_input": "2023-06-14T08:36:10.251224Z",
     "iopub.status.busy": "2023-06-14T08:36:10.250207Z",
     "iopub.status.idle": "2023-06-14T08:36:10.262538Z",
     "shell.execute_reply": "2023-06-14T08:36:10.261155Z",
     "shell.execute_reply.started": "2023-06-14T08:36:10.251168Z"
    },
    "tags": []
   },
   "outputs": [
    {
     "data": {
      "text/plain": [
       "array([1., 0., 2., 0., 3., 0., 4., 0., 5.])"
      ]
     },
     "execution_count": 94,
     "metadata": {},
     "output_type": "execute_result"
    }
   ],
   "source": [
    "a = np.arange(1, 6)\n",
    "b = np.zeros(2 * a.shape[0] - 1)\n",
    "b[::2] = a\n",
    "b"
   ]
  },
  {
   "cell_type": "markdown",
   "id": "e5d9920e-209b-4a72-9813-e0483b280207",
   "metadata": {
    "jp-MarkdownHeadingCollapsed": true,
    "tags": []
   },
   "source": [
    "# 13"
   ]
  },
  {
   "cell_type": "markdown",
   "id": "20edcca0-bf47-4375-a884-e91cc19c8102",
   "metadata": {},
   "source": [
    "Что будет выведено на экран?\n",
    "```\n",
    "x = np.arange(36).reshape(2,3,2,3)\n",
    "print(x[...,0,...])\n",
    "```"
   ]
  },
  {
   "cell_type": "code",
   "execution_count": 253,
   "id": "2ec92e7e-3638-46ed-adcf-0b5563a85da7",
   "metadata": {
    "execution": {
     "iopub.execute_input": "2023-06-08T14:05:04.534388Z",
     "iopub.status.busy": "2023-06-08T14:05:04.533814Z",
     "iopub.status.idle": "2023-06-08T14:05:04.590600Z",
     "shell.execute_reply": "2023-06-08T14:05:04.588708Z",
     "shell.execute_reply.started": "2023-06-08T14:05:04.534332Z"
    },
    "tags": []
   },
   "outputs": [
    {
     "name": "stdout",
     "output_type": "stream",
     "text": [
      "0\n"
     ]
    },
    {
     "ename": "IndexError",
     "evalue": "an index can only have a single ellipsis ('...')",
     "output_type": "error",
     "traceback": [
      "\u001b[0;31m---------------------------------------------------------------------------\u001b[0m",
      "\u001b[0;31mIndexError\u001b[0m                                Traceback (most recent call last)",
      "Cell \u001b[0;32mIn[253], line 3\u001b[0m\n\u001b[1;32m      1\u001b[0m a \u001b[38;5;241m=\u001b[39m np\u001b[38;5;241m.\u001b[39marange(\u001b[38;5;241m36\u001b[39m)\u001b[38;5;241m.\u001b[39mreshape((\u001b[38;5;241m2\u001b[39m,\u001b[38;5;241m3\u001b[39m,\u001b[38;5;241m2\u001b[39m,\u001b[38;5;241m3\u001b[39m))\n\u001b[1;32m      2\u001b[0m \u001b[38;5;28mprint\u001b[39m(a[\u001b[38;5;241m.\u001b[39m\u001b[38;5;241m.\u001b[39m\u001b[38;5;241m.\u001b[39m, \u001b[38;5;241m0\u001b[39m, \u001b[38;5;241m0\u001b[39m, \u001b[38;5;241m0\u001b[39m, \u001b[38;5;241m0\u001b[39m])\n\u001b[0;32m----> 3\u001b[0m \u001b[38;5;28mprint\u001b[39m(\u001b[43ma\u001b[49m\u001b[43m[\u001b[49m\u001b[38;5;241;43m.\u001b[39;49m\u001b[38;5;241;43m.\u001b[39;49m\u001b[38;5;241;43m.\u001b[39;49m\u001b[43m,\u001b[49m\u001b[38;5;241;43m0\u001b[39;49m\u001b[43m,\u001b[49m\u001b[38;5;241;43m.\u001b[39;49m\u001b[38;5;241;43m.\u001b[39;49m\u001b[38;5;241;43m.\u001b[39;49m\u001b[43m]\u001b[49m)\n",
      "\u001b[0;31mIndexError\u001b[0m: an index can only have a single ellipsis ('...')"
     ]
    }
   ],
   "source": [
    "a = np.arange(36).reshape((2,3,2,3))\n",
    "print(a[..., 0, 0, 0, 0])\n",
    "print(a[...,0,...])"
   ]
  },
  {
   "cell_type": "markdown",
   "id": "9febaf92-b442-4e78-96e7-813fc252f306",
   "metadata": {
    "jp-MarkdownHeadingCollapsed": true,
    "tags": []
   },
   "source": [
    "# 14"
   ]
  },
  {
   "cell_type": "markdown",
   "id": "f78cdebf-ea18-49b5-9499-ef69407acda0",
   "metadata": {},
   "source": [
    "Что будет выведено на экран?\n",
    "```\n",
    "x = np.arange(16).reshape(4,4)\n",
    "y = x[:,[2,3]]\n",
    "y[:] = 0\n",
    "print(x)\n",
    "y = x[:,:2]\n",
    "y[:] = 0\n",
    "print(x)\n",
    "```"
   ]
  },
  {
   "cell_type": "code",
   "execution_count": 128,
   "id": "840f6110-a00e-4afe-922e-7850dde09958",
   "metadata": {
    "execution": {
     "iopub.execute_input": "2023-06-08T10:07:50.457404Z",
     "iopub.status.busy": "2023-06-08T10:07:50.457104Z",
     "iopub.status.idle": "2023-06-08T10:07:50.465797Z",
     "shell.execute_reply": "2023-06-08T10:07:50.464299Z",
     "shell.execute_reply.started": "2023-06-08T10:07:50.457377Z"
    },
    "tags": []
   },
   "outputs": [
    {
     "name": "stdout",
     "output_type": "stream",
     "text": [
      "False\n",
      "[[ 0  1  2  3]\n",
      " [ 4  5  6  7]\n",
      " [ 8  9 10 11]\n",
      " [12 13 14 15]]\n",
      "True\n",
      "[[ 0  1  0  0]\n",
      " [ 4  5  0  0]\n",
      " [ 8  9  0  0]\n",
      " [12 13  0  0]]\n"
     ]
    }
   ],
   "source": [
    "a = np.arange(16).reshape((4,4))\n",
    "b = a[:,[2,3]]\n",
    "b[:] = 0\n",
    "print(np.shares_memory(a, b))\n",
    "print(a)\n",
    "b = a[:,2:]\n",
    "b[:] = 0\n",
    "print(np.shares_memory(a, b))\n",
    "print(a)"
   ]
  },
  {
   "cell_type": "code",
   "execution_count": 257,
   "id": "e2d36adf-7980-4d5b-8a96-2ba062794877",
   "metadata": {
    "execution": {
     "iopub.execute_input": "2023-06-08T14:09:15.540066Z",
     "iopub.status.busy": "2023-06-08T14:09:15.538778Z",
     "iopub.status.idle": "2023-06-08T14:09:15.550361Z",
     "shell.execute_reply": "2023-06-08T14:09:15.548764Z",
     "shell.execute_reply.started": "2023-06-08T14:09:15.540008Z"
    },
    "tags": []
   },
   "outputs": [
    {
     "data": {
      "text/plain": [
       "array([[ 0,  1,  2,  3],\n",
       "       [ 4,  5,  6,  7],\n",
       "       [ 8,  9, 10, 11],\n",
       "       [12, 13, 14, 15]])"
      ]
     },
     "execution_count": 257,
     "metadata": {},
     "output_type": "execute_result"
    }
   ],
   "source": [
    "a = np.arange(16).reshape((4,4))\n",
    "a"
   ]
  },
  {
   "cell_type": "code",
   "execution_count": 260,
   "id": "95767bf8-6f11-4775-beed-2ab1fd7d2b1b",
   "metadata": {
    "execution": {
     "iopub.execute_input": "2023-06-08T14:11:16.652491Z",
     "iopub.status.busy": "2023-06-08T14:11:16.651923Z",
     "iopub.status.idle": "2023-06-08T14:11:16.663362Z",
     "shell.execute_reply": "2023-06-08T14:11:16.661770Z",
     "shell.execute_reply.started": "2023-06-08T14:11:16.652437Z"
    },
    "tags": []
   },
   "outputs": [
    {
     "data": {
      "text/plain": [
       "array([ 1,  6, 12])"
      ]
     },
     "execution_count": 260,
     "metadata": {},
     "output_type": "execute_result"
    }
   ],
   "source": [
    "a[(0,1,3),(1,2,0)]"
   ]
  },
  {
   "cell_type": "markdown",
   "id": "aa6bb7d0-0bfe-4ba1-a85b-cf8b1c6fc612",
   "metadata": {
    "jp-MarkdownHeadingCollapsed": true,
    "tags": []
   },
   "source": [
    "# 15"
   ]
  },
  {
   "cell_type": "markdown",
   "id": "240f19f3-f0cd-4a14-b082-f7b20adf98bb",
   "metadata": {},
   "source": [
    "Замените отрицательные элементы массива нулем."
   ]
  },
  {
   "cell_type": "code",
   "execution_count": 149,
   "id": "27e8516e-85ef-4f3d-8ddf-4e8ea1cb0cff",
   "metadata": {
    "execution": {
     "iopub.execute_input": "2023-06-08T11:02:08.427543Z",
     "iopub.status.busy": "2023-06-08T11:02:08.426277Z",
     "iopub.status.idle": "2023-06-08T11:02:08.440143Z",
     "shell.execute_reply": "2023-06-08T11:02:08.438494Z",
     "shell.execute_reply.started": "2023-06-08T11:02:08.427485Z"
    },
    "tags": []
   },
   "outputs": [
    {
     "name": "stdout",
     "output_type": "stream",
     "text": [
      "[ -7   7 -10   7  -6   8   8 -10   1   4]\n"
     ]
    },
    {
     "data": {
      "text/plain": [
       "array([0, 7, 0, 7, 0, 8, 8, 0, 1, 4])"
      ]
     },
     "execution_count": 149,
     "metadata": {},
     "output_type": "execute_result"
    }
   ],
   "source": [
    "a = np.random.randint(-10, 10, size=10)\n",
    "print(a)\n",
    "np.where(a < 0, 0, a)"
   ]
  },
  {
   "cell_type": "code",
   "execution_count": 207,
   "id": "1dfd9db5-40cb-48f9-abe6-959ea55cf2cd",
   "metadata": {
    "execution": {
     "iopub.execute_input": "2023-06-08T12:02:39.089970Z",
     "iopub.status.busy": "2023-06-08T12:02:39.089402Z",
     "iopub.status.idle": "2023-06-08T12:02:39.099616Z",
     "shell.execute_reply": "2023-06-08T12:02:39.098100Z",
     "shell.execute_reply.started": "2023-06-08T12:02:39.089916Z"
    },
    "tags": []
   },
   "outputs": [
    {
     "name": "stdout",
     "output_type": "stream",
     "text": [
      "[ 6  9 -5 -1 -2  1  2 -3  4  8]\n",
      "[6 9 0 0 0 1 2 0 4 8]\n"
     ]
    }
   ],
   "source": [
    "a = np.random.randint(-10, 10, size=10)\n",
    "print(a)\n",
    "a[a < 0] = 0\n",
    "print(a)"
   ]
  },
  {
   "cell_type": "markdown",
   "id": "d3d1fd18-d97b-4ab8-8031-02a4bf57df28",
   "metadata": {
    "jp-MarkdownHeadingCollapsed": true,
    "tags": []
   },
   "source": [
    "# 16"
   ]
  },
  {
   "cell_type": "markdown",
   "id": "2fc6e785-c4eb-40f6-9412-a310f5bc031d",
   "metadata": {},
   "source": [
    "На примере целочисленного массива \n",
    "```\n",
    "x = np.array([[1,2,3], [1,1,1], [2,2,1], [2,2,2]], dtype=int)\n",
    "```\n",
    "составьте новый массив, не содержащий строки, полностью заполненные одним уникальным значением."
   ]
  },
  {
   "cell_type": "code",
   "execution_count": 90,
   "id": "affa60c2-ecca-4c19-a124-e6718d036f58",
   "metadata": {
    "execution": {
     "iopub.execute_input": "2023-06-14T08:33:37.208226Z",
     "iopub.status.busy": "2023-06-14T08:33:37.207641Z",
     "iopub.status.idle": "2023-06-14T08:33:37.223200Z",
     "shell.execute_reply": "2023-06-14T08:33:37.221545Z",
     "shell.execute_reply.started": "2023-06-14T08:33:37.208171Z"
    },
    "tags": []
   },
   "outputs": [
    {
     "name": "stdout",
     "output_type": "stream",
     "text": [
      "[[1 2 3]\n",
      " [1 1 1]\n",
      " [2 2 1]\n",
      " [2 2 2]]\n"
     ]
    },
    {
     "data": {
      "text/plain": [
       "array([[1, 2, 3],\n",
       "       [2, 2, 1]])"
      ]
     },
     "execution_count": 90,
     "metadata": {},
     "output_type": "execute_result"
    }
   ],
   "source": [
    "a = np.array([[1,2,3], [1,1,1], [2,2,1], [2,2,2]])\n",
    "print(a)\n",
    "mask = (a[:,0,np.newaxis] == a).all(axis=1)\n",
    "a[~mask]"
   ]
  },
  {
   "cell_type": "markdown",
   "id": "11516a1b-ac3d-4cc4-9034-39fef4135cfa",
   "metadata": {
    "jp-MarkdownHeadingCollapsed": true,
    "tags": []
   },
   "source": [
    "# 17"
   ]
  },
  {
   "cell_type": "markdown",
   "id": "8f0d10e0-38fb-4a41-a081-c5a3ed9a5b94",
   "metadata": {},
   "source": [
    "Для заданного одномерного массива x выведите все элементы, не превышающие своих соседей (первый и последний элемент сравниваются только со вторым и предпоследним соответственно)."
   ]
  },
  {
   "cell_type": "code",
   "execution_count": 43,
   "id": "a5641b71-b2cf-4ce9-84d3-910867af01e5",
   "metadata": {
    "execution": {
     "iopub.execute_input": "2023-06-14T08:16:03.961906Z",
     "iopub.status.busy": "2023-06-14T08:16:03.961292Z",
     "iopub.status.idle": "2023-06-14T08:16:03.976275Z",
     "shell.execute_reply": "2023-06-14T08:16:03.974534Z",
     "shell.execute_reply.started": "2023-06-14T08:16:03.961849Z"
    },
    "tags": []
   },
   "outputs": [
    {
     "name": "stdout",
     "output_type": "stream",
     "text": [
      "[1 0 2 1 0 8 4 1 5 4]\n",
      "[False  True False False  True False False  True False  True]\n",
      "[ True  True False  True  True False  True  True False  True]\n",
      "[0 0 1 4]\n"
     ]
    }
   ],
   "source": [
    "a = np.random.randint(0, 10, size=10)\n",
    "print(a)\n",
    "a_right = np.ones(10, dtype=bool)\n",
    "a_left = np.ones(10, dtype=bool)\n",
    "\n",
    "a_right[:-1] = a[:-1] <= a[1:]\n",
    "a_left[1:] = a[:-1] >= a[1:]\n",
    "print(a_right)\n",
    "print(a_left)\n",
    "print(a[(a_right & a_left)])"
   ]
  },
  {
   "cell_type": "code",
   "execution_count": 200,
   "id": "b39887e4-bd0d-4a4f-ad82-04d3f1d317a5",
   "metadata": {
    "execution": {
     "iopub.execute_input": "2023-06-22T13:20:26.082254Z",
     "iopub.status.busy": "2023-06-22T13:20:26.081699Z",
     "iopub.status.idle": "2023-06-22T13:20:26.092817Z",
     "shell.execute_reply": "2023-06-22T13:20:26.091242Z",
     "shell.execute_reply.started": "2023-06-22T13:20:26.082202Z"
    },
    "tags": []
   },
   "outputs": [
    {
     "data": {
      "text/plain": [
       "array([2, 3, 1, 5, 5, 7, 2, 0, 0, 7])"
      ]
     },
     "execution_count": 200,
     "metadata": {},
     "output_type": "execute_result"
    }
   ],
   "source": [
    "a = np.random.randint(0, 10, size=10)\n",
    "a"
   ]
  },
  {
   "cell_type": "code",
   "execution_count": 204,
   "id": "67198bc7-6589-40b0-83eb-ee42a29f3586",
   "metadata": {
    "execution": {
     "iopub.execute_input": "2023-06-22T13:25:10.564680Z",
     "iopub.status.busy": "2023-06-22T13:25:10.564115Z",
     "iopub.status.idle": "2023-06-22T13:25:10.575207Z",
     "shell.execute_reply": "2023-06-22T13:25:10.573603Z",
     "shell.execute_reply.started": "2023-06-22T13:25:10.564626Z"
    },
    "tags": []
   },
   "outputs": [
    {
     "name": "stdout",
     "output_type": "stream",
     "text": [
      "[2 1 5 0 0]\n"
     ]
    }
   ],
   "source": [
    "a_flag = np.ones(10, dtype=bool)\n",
    "\n",
    "a_flag[:-1] = (a[:-1] - a[1:]) < 1\n",
    "a_flag[1:] *= (a[1:] - a[:-1]) < 1\n",
    "print(a[a_flag])"
   ]
  },
  {
   "cell_type": "markdown",
   "id": "6e05b2ae-4f8c-4433-9ff5-7c418a14671a",
   "metadata": {
    "jp-MarkdownHeadingCollapsed": true,
    "tags": []
   },
   "source": [
    "# 18"
   ]
  },
  {
   "cell_type": "markdown",
   "id": "1f81054c-601c-459b-8b8f-57557bca50db",
   "metadata": {},
   "source": [
    "1. Создайте двумерный массив 3x3, заполненный случайными числами от 0 до 9\n",
    "2. Отсортируйте строки массива по возрастанию значения во втором столбце"
   ]
  },
  {
   "cell_type": "code",
   "execution_count": 315,
   "id": "57ae3fe9-e3bb-4e9b-bc2d-36716c2914cb",
   "metadata": {
    "execution": {
     "iopub.execute_input": "2023-06-14T12:06:00.445530Z",
     "iopub.status.busy": "2023-06-14T12:06:00.444890Z",
     "iopub.status.idle": "2023-06-14T12:06:00.460647Z",
     "shell.execute_reply": "2023-06-14T12:06:00.459184Z",
     "shell.execute_reply.started": "2023-06-14T12:06:00.445472Z"
    },
    "tags": []
   },
   "outputs": [
    {
     "name": "stdout",
     "output_type": "stream",
     "text": [
      "[[1 6 7]\n",
      " [7 9 9]\n",
      " [0 2 1]]\n",
      "[2 0 1]\n"
     ]
    },
    {
     "data": {
      "text/plain": [
       "array([[0, 2, 1],\n",
       "       [1, 6, 7],\n",
       "       [7, 9, 9]])"
      ]
     },
     "execution_count": 315,
     "metadata": {},
     "output_type": "execute_result"
    }
   ],
   "source": [
    "a = np.random.randint(0, 10, size=9).reshape((3,3))\n",
    "print(a)\n",
    "print(a[:, 1].argsort())\n",
    "a[a[:, 1].argsort()]"
   ]
  },
  {
   "cell_type": "markdown",
   "id": "d3fbdee9-359a-4195-a6e5-07fcec148200",
   "metadata": {},
   "source": [
    "## 18.1"
   ]
  },
  {
   "cell_type": "markdown",
   "id": "a3d1ff1e-d7dc-4beb-b84c-9d3c706736e4",
   "metadata": {},
   "source": [
    "отсортировать по нескольким столбцам"
   ]
  },
  {
   "cell_type": "code",
   "execution_count": 321,
   "id": "fb390238-ec5e-43b6-861b-e634b23dbe4e",
   "metadata": {
    "execution": {
     "iopub.execute_input": "2023-06-14T12:11:46.754869Z",
     "iopub.status.busy": "2023-06-14T12:11:46.754308Z",
     "iopub.status.idle": "2023-06-14T12:11:46.768146Z",
     "shell.execute_reply": "2023-06-14T12:11:46.766663Z",
     "shell.execute_reply.started": "2023-06-14T12:11:46.754816Z"
    },
    "tags": []
   },
   "outputs": [
    {
     "name": "stdout",
     "output_type": "stream",
     "text": [
      "[[2 2 2]\n",
      " [2 2 1]\n",
      " [2 1 2]\n",
      " [2 1 1]\n",
      " [1 2 2]\n",
      " [1 2 1]\n",
      " [1 1 2]\n",
      " [1 1 1]]\n",
      "[('0', '<i8'), ('1', '<i8'), ('2', '<i8')]\n",
      "[('0', '<i8'), ('1', '<i8'), ('2', '<i8')]\n"
     ]
    }
   ],
   "source": [
    "a = np.array([[2, 2, 2], \n",
    "              [2, 2, 1], \n",
    "              [2, 1, 2], \n",
    "              [2, 1, 1], \n",
    "              [1, 2, 2], \n",
    "              [1, 2, 1], \n",
    "              [1, 1, 2], \n",
    "              [1, 1, 1]])\n",
    "print(a)\n",
    "a.dtype = np.dtype([('0', int), ('1', int), ('2', int)])\n",
    "print(a.dtype)\n",
    "a.sort(order=['1', '2'], axis=0)\n",
    "\n",
    "print(a.dtype)"
   ]
  },
  {
   "cell_type": "markdown",
   "id": "4ed0625b-18e3-4eb6-b000-089a8d763ec5",
   "metadata": {
    "tags": []
   },
   "source": [
    "## 18.2"
   ]
  },
  {
   "cell_type": "code",
   "execution_count": 135,
   "id": "ef183266-ca3a-42b7-969d-dae09df2c62f",
   "metadata": {
    "execution": {
     "iopub.execute_input": "2023-06-19T10:57:15.927511Z",
     "iopub.status.busy": "2023-06-19T10:57:15.926574Z",
     "iopub.status.idle": "2023-06-19T10:57:15.940717Z",
     "shell.execute_reply": "2023-06-19T10:57:15.939068Z",
     "shell.execute_reply.started": "2023-06-19T10:57:15.927454Z"
    },
    "tags": []
   },
   "outputs": [
    {
     "name": "stdout",
     "output_type": "stream",
     "text": [
      "[[2 8 1]\n",
      " [6 8 9]\n",
      " [5 9 3]]\n"
     ]
    },
    {
     "data": {
      "text/plain": [
       "array([0, 1, 2])"
      ]
     },
     "execution_count": 135,
     "metadata": {},
     "output_type": "execute_result"
    }
   ],
   "source": [
    "a = np.random.randint(0, 10, size=9).reshape((3,3))\n",
    "print(a)\n",
    "np.lexsort(a[:,[2,1]].T)"
   ]
  },
  {
   "cell_type": "markdown",
   "id": "e47cf6d4-8abf-404a-b7c7-b6cb14b2c385",
   "metadata": {
    "jp-MarkdownHeadingCollapsed": true,
    "tags": []
   },
   "source": [
    "# 19"
   ]
  },
  {
   "cell_type": "markdown",
   "id": "9e5d3af9-bd9e-4559-a559-f8e1f12d4b0c",
   "metadata": {},
   "source": [
    "Поменяйте местами первую и вторую строки двумерного массива"
   ]
  },
  {
   "cell_type": "code",
   "execution_count": 201,
   "id": "3a952094-5769-471a-b538-4d512be6255a",
   "metadata": {
    "execution": {
     "iopub.execute_input": "2023-06-08T11:56:04.470384Z",
     "iopub.status.busy": "2023-06-08T11:56:04.469816Z",
     "iopub.status.idle": "2023-06-08T11:56:04.480370Z",
     "shell.execute_reply": "2023-06-08T11:56:04.478851Z",
     "shell.execute_reply.started": "2023-06-08T11:56:04.470331Z"
    },
    "tags": []
   },
   "outputs": [
    {
     "name": "stdout",
     "output_type": "stream",
     "text": [
      "[[3 4 5]\n",
      " [0 1 2]\n",
      " [6 7 8]]\n"
     ]
    }
   ],
   "source": [
    "a = np.arange(0, 9).reshape((3,3))\n",
    "a[[0,1], :] = a[[1,0], :]\n",
    "print(a)"
   ]
  },
  {
   "cell_type": "markdown",
   "id": "5c1e8127-f881-46ae-acb5-9fd15a23a12f",
   "metadata": {
    "jp-MarkdownHeadingCollapsed": true,
    "tags": []
   },
   "source": [
    "# 20"
   ]
  },
  {
   "cell_type": "markdown",
   "id": "122274e1-5d66-4e0e-9dee-5a8c4e27a06f",
   "metadata": {},
   "source": [
    "1. Создайте массив 3x5, заполненный числами от 0 до 14\n",
    "2. Выберите 1, 3 строки и 2, 4 столбцы, не удаляя элементы из массива"
   ]
  },
  {
   "cell_type": "code",
   "execution_count": 304,
   "id": "bbd3fd8b-736f-4550-a600-b669bc0121e4",
   "metadata": {
    "execution": {
     "iopub.execute_input": "2023-06-14T11:53:01.612506Z",
     "iopub.status.busy": "2023-06-14T11:53:01.611941Z",
     "iopub.status.idle": "2023-06-14T11:53:01.623351Z",
     "shell.execute_reply": "2023-06-14T11:53:01.621706Z",
     "shell.execute_reply.started": "2023-06-14T11:53:01.612453Z"
    },
    "tags": []
   },
   "outputs": [
    {
     "name": "stdout",
     "output_type": "stream",
     "text": [
      "[[ 0  1  2  3  4]\n",
      " [ 5  6  7  8  9]\n",
      " [10 11 12 13 14]]\n",
      "[[ 1  3]\n",
      " [11 13]]\n"
     ]
    }
   ],
   "source": [
    "a = np.arange(0, 15).reshape((3,5))\n",
    "print(a)\n",
    "rows = np.array([[0], [2]])\n",
    "cols = np.array([1, 3])\n",
    "print(a[rows, cols])"
   ]
  },
  {
   "cell_type": "markdown",
   "id": "7e7383d0-d481-402b-accc-815bfd32df9e",
   "metadata": {
    "jp-MarkdownHeadingCollapsed": true,
    "tags": []
   },
   "source": [
    "# 21"
   ]
  },
  {
   "cell_type": "markdown",
   "id": "23ad7c73-f129-484d-ad2a-43065a0f17ad",
   "metadata": {},
   "source": [
    "Что будет выведено на экран?\n",
    "```\n",
    "x = np.arange(5)\n",
    "x[[0,0,1]] = range(3)\n",
    "print(x)\n",
    "x[[1,2,1]] += 1\n",
    "print(x)\n",
    "```"
   ]
  },
  {
   "cell_type": "code",
   "execution_count": 388,
   "id": "3bf69945-3e28-4437-a705-d9c91aa2d22e",
   "metadata": {
    "execution": {
     "iopub.execute_input": "2023-06-14T16:04:41.403688Z",
     "iopub.status.busy": "2023-06-14T16:04:41.402355Z",
     "iopub.status.idle": "2023-06-14T16:04:41.412257Z",
     "shell.execute_reply": "2023-06-14T16:04:41.410527Z",
     "shell.execute_reply.started": "2023-06-14T16:04:41.403631Z"
    },
    "tags": []
   },
   "outputs": [
    {
     "name": "stdout",
     "output_type": "stream",
     "text": [
      "[1 2 2 3 4]\n"
     ]
    }
   ],
   "source": [
    "x = np.arange(5)\n",
    "x[[0,0,1]] = range(3)\n",
    "print(x)\n",
    "# x[[1,2,1]] += 1\n",
    "# print(x)"
   ]
  },
  {
   "cell_type": "code",
   "execution_count": 389,
   "id": "02d149fd-0bab-483f-aba4-428e3356abd4",
   "metadata": {
    "execution": {
     "iopub.execute_input": "2023-06-14T16:04:42.014487Z",
     "iopub.status.busy": "2023-06-14T16:04:42.013238Z",
     "iopub.status.idle": "2023-06-14T16:04:42.024144Z",
     "shell.execute_reply": "2023-06-14T16:04:42.022420Z",
     "shell.execute_reply.started": "2023-06-14T16:04:42.014434Z"
    },
    "tags": []
   },
   "outputs": [
    {
     "name": "stdout",
     "output_type": "stream",
     "text": [
      "[2 2 2]\n",
      "[3 3 3]\n",
      "[1 3 3 3 4]\n"
     ]
    }
   ],
   "source": [
    "tmp = x[[1,2,1]]\n",
    "print(tmp) # [2 2 2]\n",
    "tmp = tmp + 1 # [3 3 3]\n",
    "print(tmp)\n",
    "x[[1,2,1]] = tmp #[3 3 3] -> 1 3 3 3 4\n",
    "print(x)"
   ]
  },
  {
   "cell_type": "code",
   "execution_count": 351,
   "id": "a1148c0b-fbe1-4f42-8ede-89602e1f8532",
   "metadata": {
    "execution": {
     "iopub.execute_input": "2023-06-14T14:17:13.916335Z",
     "iopub.status.busy": "2023-06-14T14:17:13.914966Z",
     "iopub.status.idle": "2023-06-14T14:17:13.925099Z",
     "shell.execute_reply": "2023-06-14T14:17:13.923702Z",
     "shell.execute_reply.started": "2023-06-14T14:17:13.916280Z"
    },
    "tags": []
   },
   "outputs": [
    {
     "data": {
      "text/plain": [
       "array([1, 3, 3, 3, 4])"
      ]
     },
     "execution_count": 351,
     "metadata": {},
     "output_type": "execute_result"
    }
   ],
   "source": [
    "x[[0, 0, 1]] = range(3) # [0, 0, 1] := [0, 1, 2]"
   ]
  },
  {
   "cell_type": "markdown",
   "id": "f1006713-c68d-4116-83bd-0e0c42ca5a28",
   "metadata": {
    "jp-MarkdownHeadingCollapsed": true,
    "tags": []
   },
   "source": [
    "# 22"
   ]
  },
  {
   "cell_type": "markdown",
   "id": "556233a9-3ea5-410c-a42d-dcab6cd83694",
   "metadata": {},
   "source": [
    "Перечислите все известные вам способы преобразования заданного n-мерного массива в одномерный. \n",
    "\n",
    "Какой из способов работает быстрее и почему?"
   ]
  },
  {
   "cell_type": "code",
   "execution_count": 150,
   "id": "ffb0285b-bb49-48a7-9ef1-2923aa54dd93",
   "metadata": {
    "execution": {
     "iopub.execute_input": "2023-06-19T11:17:21.981913Z",
     "iopub.status.busy": "2023-06-19T11:17:21.981687Z",
     "iopub.status.idle": "2023-06-19T11:17:21.989381Z",
     "shell.execute_reply": "2023-06-19T11:17:21.988069Z",
     "shell.execute_reply.started": "2023-06-19T11:17:21.981894Z"
    },
    "tags": []
   },
   "outputs": [
    {
     "data": {
      "text/plain": [
       "array([[ 0,  1,  2,  3,  4,  5,  6,  7,  8,  9],\n",
       "       [10, 11, 12, 13, 14, 15, 16, 17, 18, 19],\n",
       "       [20, 21, 22, 23, 24, 25, 26, 27, 28, 29],\n",
       "       [30, 31, 32, 33, 34, 35, 36, 37, 38, 39],\n",
       "       [40, 41, 42, 43, 44, 45, 46, 47, 48, 49],\n",
       "       [50, 51, 52, 53, 54, 55, 56, 57, 58, 59],\n",
       "       [60, 61, 62, 63, 64, 65, 66, 67, 68, 69],\n",
       "       [70, 71, 72, 73, 74, 75, 76, 77, 78, 79],\n",
       "       [80, 81, 82, 83, 84, 85, 86, 87, 88, 89],\n",
       "       [90, 91, 92, 93, 94, 95, 96, 97, 98, 99]])"
      ]
     },
     "execution_count": 150,
     "metadata": {},
     "output_type": "execute_result"
    }
   ],
   "source": [
    "a = np.arange(100).reshape(10,10)\n",
    "a"
   ]
  },
  {
   "cell_type": "code",
   "execution_count": 151,
   "id": "c5304194-2a32-4215-84ea-0fe0627f479d",
   "metadata": {
    "execution": {
     "iopub.execute_input": "2023-06-19T11:17:24.906492Z",
     "iopub.status.busy": "2023-06-19T11:17:24.905547Z",
     "iopub.status.idle": "2023-06-19T11:17:26.160658Z",
     "shell.execute_reply": "2023-06-19T11:17:26.159693Z",
     "shell.execute_reply.started": "2023-06-19T11:17:24.906435Z"
    },
    "tags": []
   },
   "outputs": [
    {
     "name": "stdout",
     "output_type": "stream",
     "text": [
      "142 ns ± 19.3 ns per loop (mean ± std. dev. of 7 runs, 1,000,000 loops each)\n"
     ]
    }
   ],
   "source": [
    "%%timeit\n",
    "a.ravel()"
   ]
  },
  {
   "cell_type": "code",
   "execution_count": 166,
   "id": "7a5b6fbc-9b76-498c-baa2-cf41e01b3916",
   "metadata": {
    "execution": {
     "iopub.execute_input": "2023-06-14T09:25:45.540627Z",
     "iopub.status.busy": "2023-06-14T09:25:45.540187Z",
     "iopub.status.idle": "2023-06-14T09:25:50.180784Z",
     "shell.execute_reply": "2023-06-14T09:25:50.179850Z",
     "shell.execute_reply.started": "2023-06-14T09:25:45.540601Z"
    },
    "tags": []
   },
   "outputs": [
    {
     "name": "stdout",
     "output_type": "stream",
     "text": [
      "551 ns ± 0.817 ns per loop (mean ± std. dev. of 7 runs, 1,000,000 loops each)\n"
     ]
    }
   ],
   "source": [
    "(%%timeit\n",
    "a.flatten())"
   ]
  },
  {
   "cell_type": "code",
   "execution_count": 149,
   "id": "eb683048-694d-4c42-b71e-bb8692589ed9",
   "metadata": {
    "execution": {
     "iopub.execute_input": "2023-06-19T11:17:16.764193Z",
     "iopub.status.busy": "2023-06-19T11:17:16.763595Z",
     "iopub.status.idle": "2023-06-19T11:17:18.662844Z",
     "shell.execute_reply": "2023-06-19T11:17:18.661912Z",
     "shell.execute_reply.started": "2023-06-19T11:17:16.764137Z"
    },
    "tags": []
   },
   "outputs": [
    {
     "name": "stdout",
     "output_type": "stream",
     "text": [
      "219 ns ± 23 ns per loop (mean ± std. dev. of 7 runs, 1,000,000 loops each)\n"
     ]
    }
   ],
   "source": [
    "%%timeit\n",
    "a.reshape(-1)"
   ]
  },
  {
   "cell_type": "code",
   "execution_count": 2,
   "id": "75704365-5830-4160-9796-0a4fdea4d353",
   "metadata": {
    "execution": {
     "iopub.execute_input": "2023-06-19T14:15:23.391331Z",
     "iopub.status.busy": "2023-06-19T14:15:23.390739Z",
     "iopub.status.idle": "2023-06-19T14:15:23.402558Z",
     "shell.execute_reply": "2023-06-19T14:15:23.400660Z",
     "shell.execute_reply.started": "2023-06-19T14:15:23.391275Z"
    },
    "tags": []
   },
   "outputs": [
    {
     "name": "stdout",
     "output_type": "stream",
     "text": [
      "True\n",
      "False\n"
     ]
    }
   ],
   "source": [
    "a = np.arange(100).reshape(10,10)\n",
    "b = a.reshape(-1) # view\n",
    "c = a.ravel(order='F') # copy\n",
    "print(np.shares_memory(a, b))\n",
    "print(np.shares_memory(a, c))"
   ]
  },
  {
   "cell_type": "code",
   "execution_count": 185,
   "id": "1d062fc1-b1fd-4696-8b52-2715818c27ad",
   "metadata": {
    "execution": {
     "iopub.execute_input": "2023-06-22T12:40:16.492507Z",
     "iopub.status.busy": "2023-06-22T12:40:16.491901Z",
     "iopub.status.idle": "2023-06-22T12:40:16.505155Z",
     "shell.execute_reply": "2023-06-22T12:40:16.503656Z",
     "shell.execute_reply.started": "2023-06-22T12:40:16.492451Z"
    },
    "tags": []
   },
   "outputs": [
    {
     "name": "stdout",
     "output_type": "stream",
     "text": [
      "True\n",
      "True\n",
      "[ 0  1  2  3  4  5  6  7  8  9 10 11 12 13 14 15 16 17 18 19 20 21 22 23\n",
      " 24 25 26 27 28 29 30 31 32 33 34 35 36 37 38 39 40 41 42 43 44 45 46 47\n",
      " 48 49 50 51 52 53 54 55 56 57 58 59 60 61 62 63 64 65 66 67 68 69 70 71\n",
      " 72 73 74 75 76 77 78 79 80 81 82 83 84 85 86 87 88 89 90 91 92 93 94 95\n",
      " 96 97 98 99]\n",
      "[ 0  1  2  3  4  5  6  7  8  9 10 11 12 13 14 15 16 17 18 19 20 21 22 23\n",
      " 24 25 26 27 28 29 30 31 32 33 34 35 36 37 38 39 40 41 42 43 44 45 46 47\n",
      " 48 49 50 51 52 53 54 55 56 57 58 59 60 61 62 63 64 65 66 67 68 69 70 71\n",
      " 72 73 74 75 76 77 78 79 80 81 82 83 84 85 86 87 88 89 90 91 92 93 94 95\n",
      " 96 97 98 99]\n"
     ]
    }
   ],
   "source": [
    "a = np.arange(100).reshape(10,10)\n",
    "\n",
    "b = a.reshape(-1)\n",
    "c = a.T.ravel(order='K')\n",
    "print(np.shares_memory(a, b))\n",
    "print(np.shares_memory(a, c))\n",
    "print(b)\n",
    "print(c)"
   ]
  },
  {
   "cell_type": "code",
   "execution_count": 214,
   "id": "a517fa14-3822-47d5-a378-372eb18e996d",
   "metadata": {
    "execution": {
     "iopub.execute_input": "2023-06-22T13:35:51.800244Z",
     "iopub.status.busy": "2023-06-22T13:35:51.799678Z",
     "iopub.status.idle": "2023-06-22T13:35:51.813334Z",
     "shell.execute_reply": "2023-06-22T13:35:51.811734Z",
     "shell.execute_reply.started": "2023-06-22T13:35:51.800191Z"
    },
    "tags": []
   },
   "outputs": [
    {
     "name": "stdout",
     "output_type": "stream",
     "text": [
      "<class 'numpy.int64'>\n",
      "1\n"
     ]
    },
    {
     "data": {
      "text/plain": [
       "False"
      ]
     },
     "execution_count": 214,
     "metadata": {},
     "output_type": "execute_result"
    }
   ],
   "source": [
    "a = np.arange(10).reshape(2,5)\n",
    "b = a[(0,1)]\n",
    "print(type(b))\n",
    "print(b)\n",
    "np.shares_memory(b, a)"
   ]
  },
  {
   "cell_type": "code",
   "execution_count": 253,
   "id": "27730a2f-e194-416d-95d8-0f8d9ed2b360",
   "metadata": {
    "execution": {
     "iopub.execute_input": "2023-06-22T14:43:35.394629Z",
     "iopub.status.busy": "2023-06-22T14:43:35.394075Z",
     "iopub.status.idle": "2023-06-22T14:43:35.404378Z",
     "shell.execute_reply": "2023-06-22T14:43:35.402705Z",
     "shell.execute_reply.started": "2023-06-22T14:43:35.394577Z"
    },
    "tags": []
   },
   "outputs": [
    {
     "name": "stdout",
     "output_type": "stream",
     "text": [
      "[[ 0  1  2  3  4  5]\n",
      " [ 6  7  8  9 10 11]]\n",
      "[[ 0  2  4]\n",
      " [ 6  8 10]]\n"
     ]
    }
   ],
   "source": [
    "a = np.arange(12).reshape(2,6)\n",
    "b = a[:, ::2]\n",
    "print(a)\n",
    "print(b)"
   ]
  },
  {
   "cell_type": "code",
   "execution_count": 254,
   "id": "2e571daa-e12e-465f-8cca-222ee8c66e75",
   "metadata": {
    "execution": {
     "iopub.execute_input": "2023-06-22T14:43:38.465414Z",
     "iopub.status.busy": "2023-06-22T14:43:38.464853Z",
     "iopub.status.idle": "2023-06-22T14:43:38.475101Z",
     "shell.execute_reply": "2023-06-22T14:43:38.473738Z",
     "shell.execute_reply.started": "2023-06-22T14:43:38.465362Z"
    },
    "tags": []
   },
   "outputs": [
    {
     "data": {
      "text/plain": [
       "  C_CONTIGUOUS : False\n",
       "  F_CONTIGUOUS : False\n",
       "  OWNDATA : False\n",
       "  WRITEABLE : True\n",
       "  ALIGNED : True\n",
       "  WRITEBACKIFCOPY : False"
      ]
     },
     "execution_count": 254,
     "metadata": {},
     "output_type": "execute_result"
    }
   ],
   "source": [
    "b.reshape(-1).flags"
   ]
  },
  {
   "cell_type": "code",
   "execution_count": 247,
   "id": "ca1e314a-f905-442f-8a24-d5b9922440b4",
   "metadata": {
    "execution": {
     "iopub.execute_input": "2023-06-22T14:38:31.958129Z",
     "iopub.status.busy": "2023-06-22T14:38:31.957565Z",
     "iopub.status.idle": "2023-06-22T14:38:31.967785Z",
     "shell.execute_reply": "2023-06-22T14:38:31.966400Z",
     "shell.execute_reply.started": "2023-06-22T14:38:31.958076Z"
    },
    "tags": []
   },
   "outputs": [
    {
     "data": {
      "text/plain": [
       "  C_CONTIGUOUS : True\n",
       "  F_CONTIGUOUS : True\n",
       "  OWNDATA : True\n",
       "  WRITEABLE : True\n",
       "  ALIGNED : True\n",
       "  WRITEBACKIFCOPY : False"
      ]
     },
     "execution_count": 247,
     "metadata": {},
     "output_type": "execute_result"
    }
   ],
   "source": [
    "a.ravel().flags"
   ]
  },
  {
   "cell_type": "markdown",
   "id": "4f5c9108-fdf5-49eb-81ff-03e0a85b4adf",
   "metadata": {
    "jp-MarkdownHeadingCollapsed": true,
    "tags": []
   },
   "source": [
    "# 23"
   ]
  },
  {
   "cell_type": "markdown",
   "id": "6640f1c5-708f-4306-bf9a-0eb25ec4ad53",
   "metadata": {},
   "source": [
    "1. Создайте массив, заполненный случайными значениями\n",
    "2. Замените максимальные значения массива средним"
   ]
  },
  {
   "cell_type": "code",
   "execution_count": 297,
   "id": "1ceb7f1e-69ab-4556-9994-f536c10b7502",
   "metadata": {
    "execution": {
     "iopub.execute_input": "2023-06-14T11:39:32.833412Z",
     "iopub.status.busy": "2023-06-14T11:39:32.833108Z",
     "iopub.status.idle": "2023-06-14T11:39:32.842253Z",
     "shell.execute_reply": "2023-06-14T11:39:32.840939Z",
     "shell.execute_reply.started": "2023-06-14T11:39:32.833384Z"
    },
    "tags": []
   },
   "outputs": [
    {
     "name": "stdout",
     "output_type": "stream",
     "text": [
      "[2. 6. 8. 9. 4. 7. 9. 0. 8. 1.]\n",
      "[2.  6.  8.  5.4 4.  7.  5.4 0.  8.  1. ]\n"
     ]
    }
   ],
   "source": [
    "a = np.random.randint(10, size=10).astype(float)\n",
    "print(a)\n",
    "a[np.where(a == a.max())[0]] = a.mean()\n",
    "print(a)"
   ]
  },
  {
   "cell_type": "markdown",
   "id": "9f1a69f9-5d37-42c8-b7b2-6c3e8be7ae19",
   "metadata": {
    "jp-MarkdownHeadingCollapsed": true,
    "tags": []
   },
   "source": [
    "# 24"
   ]
  },
  {
   "cell_type": "markdown",
   "id": "8dc9a8df-faf6-4548-b34d-e22158e93e64",
   "metadata": {},
   "source": [
    "1. Создайте двумерный массив 6x6, заполненный случайными значениями\n",
    "2. Сумму по каждой строке поделите на минимальный элемент из столбца с тем же индексом"
   ]
  },
  {
   "cell_type": "code",
   "execution_count": 354,
   "id": "d79b7803-b0ee-46bb-9fc3-04fba1c4c0b0",
   "metadata": {
    "execution": {
     "iopub.execute_input": "2023-06-14T14:30:14.679643Z",
     "iopub.status.busy": "2023-06-14T14:30:14.679000Z",
     "iopub.status.idle": "2023-06-14T14:30:14.693059Z",
     "shell.execute_reply": "2023-06-14T14:30:14.691330Z",
     "shell.execute_reply.started": "2023-06-14T14:30:14.679565Z"
    },
    "tags": []
   },
   "outputs": [
    {
     "name": "stdout",
     "output_type": "stream",
     "text": [
      "a array: \n",
      "[[30 33 34 51 63 91]\n",
      " [66 81 30 53 26 32]\n",
      " [69 30 20 53 63 99]\n",
      " [39 51 96 19 44 59]\n",
      " [55 70 99 13 14 50]\n",
      " [66 50 24 31 28 10]]\n",
      "min value for each column [30 30 20 13 14 10]\n",
      "sum for each row \n",
      "[302 288 334 308 301 209]\n",
      "result: \n",
      "[10.06666667  9.6        16.7        23.69230769 21.5        20.9       ]\n"
     ]
    }
   ],
   "source": [
    "a = np.random.randint(10, 100, size=(6,6))\n",
    "print(f'a array: \\n{a}')\n",
    "sum_ = a.sum(axis=1)\n",
    "min_ = a.min(axis=0)\n",
    "print(f'min value for each column {min_}')\n",
    "print(f'sum for each row \\n{sum_}')\n",
    "b = sum_ / min_\n",
    "print(f'result: \\n{b}')"
   ]
  },
  {
   "cell_type": "markdown",
   "id": "ad1d33c9-a74c-4aa3-8ee9-e7bc843ca41e",
   "metadata": {
    "jp-MarkdownHeadingCollapsed": true,
    "tags": []
   },
   "source": [
    "# 25"
   ]
  },
  {
   "cell_type": "markdown",
   "id": "febddc15-bb67-4c42-833d-7c32ac8ce4fd",
   "metadata": {},
   "source": [
    "1. Создайте одномерный массив длины 10, заполненный случайными значениями\n",
    "2. Линейно отобразите элементы массива в отрезок [0, 1], при этом минимальный элемент должен отобразиться в 0, а максимальный - в 1"
   ]
  },
  {
   "cell_type": "code",
   "execution_count": null,
   "id": "9d6bc712-3998-4684-a8e2-421ed2af8801",
   "metadata": {
    "tags": []
   },
   "outputs": [],
   "source": [
    "a = np.random.randint(5, 10, size=10)\n",
    "print(a)\n",
    "np.interp(a, (a.min(), a.max()), (-1, 2))"
   ]
  },
  {
   "cell_type": "code",
   "execution_count": null,
   "id": "463f3317-1020-47f9-8e0f-5c6e19e21cb3",
   "metadata": {
    "tags": []
   },
   "outputs": [],
   "source": [
    "min_ = -1\n",
    "max_ = 2\n",
    "\n",
    "a_min = a.min()\n",
    "a_max = a.max()\n",
    "\n",
    "scale = (max_ - min_) / (a_max - a_min) \n",
    "(a-a_min)*scale + min_"
   ]
  },
  {
   "cell_type": "markdown",
   "id": "cf8570f7-930c-4a18-91e2-9c569cb3157b",
   "metadata": {
    "jp-MarkdownHeadingCollapsed": true,
    "tags": []
   },
   "source": [
    "# 26"
   ]
  },
  {
   "cell_type": "markdown",
   "id": "43b7774c-b4f2-47dc-a965-730800d067e4",
   "metadata": {},
   "source": [
    "Замените все вхождения nan в двумерный массив средним значением по соответствующему столбцу"
   ]
  },
  {
   "cell_type": "code",
   "execution_count": 237,
   "id": "b42dff3a-8564-4228-9cb4-5ac57ee6ee6f",
   "metadata": {
    "execution": {
     "iopub.execute_input": "2023-06-14T10:11:15.439855Z",
     "iopub.status.busy": "2023-06-14T10:11:15.439280Z",
     "iopub.status.idle": "2023-06-14T10:11:15.456325Z",
     "shell.execute_reply": "2023-06-14T10:11:15.454904Z",
     "shell.execute_reply.started": "2023-06-14T10:11:15.439802Z"
    },
    "tags": []
   },
   "outputs": [
    {
     "name": "stdout",
     "output_type": "stream",
     "text": [
      "[[ 1.  7.  1.  0.]\n",
      " [ 4.  2. nan  4.]\n",
      " [-1. nan  2.  3.]\n",
      " [nan -1. -2. nan]]\n"
     ]
    },
    {
     "data": {
      "text/plain": [
       "array([[ 1.        ,  7.        ,  1.        ,  0.        ],\n",
       "       [ 4.        ,  2.        ,  0.33333333,  4.        ],\n",
       "       [-1.        ,  2.66666667,  2.        ,  3.        ],\n",
       "       [ 1.33333333, -1.        , -2.        ,  2.33333333]])"
      ]
     },
     "execution_count": 237,
     "metadata": {},
     "output_type": "execute_result"
    }
   ],
   "source": [
    "a = np.array([[1, 7, 1, 0], [4, 2, np.nan, 4], [-1, np.nan, 2, 3], [np.nan, -1, -2, np.nan]])\n",
    "print(a)\n",
    "np.where(np.isnan(a), np.nanmean(a, axis=0), a)"
   ]
  },
  {
   "cell_type": "markdown",
   "id": "e74597fb-7c8c-4e8c-bbf0-69363b834c69",
   "metadata": {
    "jp-MarkdownHeadingCollapsed": true,
    "tags": []
   },
   "source": [
    "# 27"
   ]
  },
  {
   "cell_type": "markdown",
   "id": "b6c08d1c-eba3-48d9-a49c-c07751cc05ec",
   "metadata": {},
   "source": [
    "Проверьте, есть ли в двумерном массиве столбец, полностью заполненый нулями."
   ]
  },
  {
   "cell_type": "code",
   "execution_count": 250,
   "id": "771d809c-3297-4ed5-87fc-a66c8f895fda",
   "metadata": {
    "execution": {
     "iopub.execute_input": "2023-06-14T10:16:19.854620Z",
     "iopub.status.busy": "2023-06-14T10:16:19.853390Z",
     "iopub.status.idle": "2023-06-14T10:16:19.864530Z",
     "shell.execute_reply": "2023-06-14T10:16:19.863018Z",
     "shell.execute_reply.started": "2023-06-14T10:16:19.854565Z"
    },
    "tags": []
   },
   "outputs": [
    {
     "name": "stdout",
     "output_type": "stream",
     "text": [
      "[[ 1  0  1  0]\n",
      " [ 4  0  0  0]\n",
      " [ 0  0  2  0]\n",
      " [-8  0 -2  0]]\n",
      "True\n"
     ]
    }
   ],
   "source": [
    "a = np.array([[1, 0, 1, 0], [4, 0, 0, 0], [0, 0, 2, 0], [-8, 0, -2, 0]])\n",
    "print(a)\n",
    "print(~(a.any(axis=0)).all())"
   ]
  },
  {
   "cell_type": "markdown",
   "id": "afa359fc-b96a-47f2-8167-2fc80ad8e4ae",
   "metadata": {
    "jp-MarkdownHeadingCollapsed": true,
    "tags": []
   },
   "source": [
    "# 28"
   ]
  },
  {
   "cell_type": "markdown",
   "id": "11f28b78-100b-40f8-b2d6-cc853fd0a357",
   "metadata": {},
   "source": [
    "1. Создайте массив случайных чисел от 0 до 9 размером 3x4x3x4\n",
    "2. Вычислите суммы элементов по двум последним осям"
   ]
  },
  {
   "cell_type": "code",
   "execution_count": 254,
   "id": "64ed237f-ee11-4a05-a07b-a27ff8c7f8aa",
   "metadata": {
    "execution": {
     "iopub.execute_input": "2023-06-14T10:22:28.385420Z",
     "iopub.status.busy": "2023-06-14T10:22:28.384864Z",
     "iopub.status.idle": "2023-06-14T10:22:28.396268Z",
     "shell.execute_reply": "2023-06-14T10:22:28.395073Z",
     "shell.execute_reply.started": "2023-06-14T10:22:28.385366Z"
    },
    "tags": []
   },
   "outputs": [
    {
     "data": {
      "text/plain": [
       "array([[[[2, 3, 3, 1],\n",
       "         [8, 7, 1, 6],\n",
       "         [1, 0, 0, 2]],\n",
       "\n",
       "        [[3, 4, 4, 7],\n",
       "         [3, 2, 8, 3],\n",
       "         [6, 3, 0, 8]],\n",
       "\n",
       "        [[3, 2, 1, 0],\n",
       "         [3, 1, 4, 1],\n",
       "         [6, 8, 3, 3]],\n",
       "\n",
       "        [[6, 4, 4, 4],\n",
       "         [7, 7, 2, 5],\n",
       "         [4, 0, 3, 0]]],\n",
       "\n",
       "\n",
       "       [[[3, 8, 5, 3],\n",
       "         [2, 5, 5, 8],\n",
       "         [6, 4, 4, 4]],\n",
       "\n",
       "        [[3, 7, 1, 8],\n",
       "         [2, 8, 5, 5],\n",
       "         [2, 8, 2, 4]],\n",
       "\n",
       "        [[8, 4, 2, 0],\n",
       "         [1, 2, 8, 2],\n",
       "         [2, 7, 6, 7]],\n",
       "\n",
       "        [[7, 0, 2, 5],\n",
       "         [0, 3, 6, 8],\n",
       "         [8, 7, 8, 2]]],\n",
       "\n",
       "\n",
       "       [[[0, 8, 3, 4],\n",
       "         [3, 8, 8, 4],\n",
       "         [1, 8, 7, 4]],\n",
       "\n",
       "        [[7, 6, 7, 6],\n",
       "         [3, 5, 3, 8],\n",
       "         [2, 7, 3, 7]],\n",
       "\n",
       "        [[3, 2, 7, 1],\n",
       "         [2, 2, 5, 1],\n",
       "         [8, 4, 6, 3]],\n",
       "\n",
       "        [[6, 2, 6, 5],\n",
       "         [7, 2, 7, 3],\n",
       "         [8, 1, 3, 6]]]])"
      ]
     },
     "execution_count": 254,
     "metadata": {},
     "output_type": "execute_result"
    }
   ],
   "source": [
    "a = np.random.randint(9, size=(3,4,3,4))\n",
    "a"
   ]
  },
  {
   "cell_type": "code",
   "execution_count": 257,
   "id": "ae217cdc-c672-4184-be02-010a08ae461d",
   "metadata": {
    "execution": {
     "iopub.execute_input": "2023-06-14T10:23:00.473338Z",
     "iopub.status.busy": "2023-06-14T10:23:00.472777Z",
     "iopub.status.idle": "2023-06-14T10:23:00.481853Z",
     "shell.execute_reply": "2023-06-14T10:23:00.480442Z",
     "shell.execute_reply.started": "2023-06-14T10:23:00.473285Z"
    },
    "tags": []
   },
   "outputs": [
    {
     "name": "stdout",
     "output_type": "stream",
     "text": [
      "[[[[34]]\n",
      "\n",
      "  [[51]]\n",
      "\n",
      "  [[35]]\n",
      "\n",
      "  [[46]]]\n",
      "\n",
      "\n",
      " [[[57]]\n",
      "\n",
      "  [[55]]\n",
      "\n",
      "  [[49]]\n",
      "\n",
      "  [[56]]]\n",
      "\n",
      "\n",
      " [[[58]]\n",
      "\n",
      "  [[64]]\n",
      "\n",
      "  [[44]]\n",
      "\n",
      "  [[56]]]]\n"
     ]
    }
   ],
   "source": [
    "print(a.sum(axis=(2,3), keepdims=True))"
   ]
  },
  {
   "cell_type": "markdown",
   "id": "0079d595-fbf3-4a4a-bbf7-76d4e1cead76",
   "metadata": {
    "jp-MarkdownHeadingCollapsed": true,
    "tags": []
   },
   "source": [
    "# 29"
   ]
  },
  {
   "cell_type": "markdown",
   "id": "255c92eb-46db-4158-8aaa-6854e2408bb8",
   "metadata": {},
   "source": [
    "1. Любым способом создайте два массива одинаковой длины\n",
    "2. Создайте массив, в котором на четных позициях будут стоять элементы с соответствующих позиций первого массива, а на нечетных - с соответствующих позиций второго"
   ]
  },
  {
   "cell_type": "code",
   "execution_count": 364,
   "id": "75f31647-82f2-49d6-8817-8ca91d56d0c5",
   "metadata": {
    "execution": {
     "iopub.execute_input": "2023-06-14T14:45:45.373922Z",
     "iopub.status.busy": "2023-06-14T14:45:45.373295Z",
     "iopub.status.idle": "2023-06-14T14:45:45.388127Z",
     "shell.execute_reply": "2023-06-14T14:45:45.386461Z",
     "shell.execute_reply.started": "2023-06-14T14:45:45.373866Z"
    },
    "tags": []
   },
   "outputs": [
    {
     "data": {
      "text/plain": [
       "array([ 0, 11,  2, 13,  4, 15,  6, 17,  8, 19])"
      ]
     },
     "execution_count": 364,
     "metadata": {},
     "output_type": "execute_result"
    }
   ],
   "source": [
    "a = np.arange(10)\n",
    "b = np.arange(10, 20)\n",
    "\n",
    "c = np.zeros(a.shape[0], dtype=np.int8)\n",
    "c[::2] = 1\n",
    "\n",
    "np.where(c, a, b)"
   ]
  },
  {
   "cell_type": "markdown",
   "id": "cbb52e0d-ffa3-4367-acd2-f231d764fff3",
   "metadata": {
    "jp-MarkdownHeadingCollapsed": true,
    "tags": []
   },
   "source": [
    "# 30"
   ]
  },
  {
   "cell_type": "markdown",
   "id": "ffd18b5e-5bef-40c0-a8b4-09e1d585c0ef",
   "metadata": {},
   "source": [
    "На примере массива \n",
    "```\n",
    "x = np.array([[1., 2.], [np.nan, 3.], [5., 5.], [np.nan, np.nan]])\n",
    "```\n",
    "вычислите долю пропущенных значений"
   ]
  },
  {
   "cell_type": "code",
   "execution_count": 365,
   "id": "e90d0794-2b23-444d-9e92-3d85cca0183a",
   "metadata": {
    "execution": {
     "iopub.execute_input": "2023-06-14T14:47:06.875500Z",
     "iopub.status.busy": "2023-06-14T14:47:06.874911Z",
     "iopub.status.idle": "2023-06-14T14:47:06.888289Z",
     "shell.execute_reply": "2023-06-14T14:47:06.886650Z",
     "shell.execute_reply.started": "2023-06-14T14:47:06.875446Z"
    },
    "tags": []
   },
   "outputs": [
    {
     "data": {
      "text/plain": [
       "0.375"
      ]
     },
     "execution_count": 365,
     "metadata": {},
     "output_type": "execute_result"
    }
   ],
   "source": [
    "x = np.array([[1., 2.], [np.nan, 3.], [5., 5.], [np.nan, np.nan]])\n",
    "np.isnan(x).mean()"
   ]
  },
  {
   "cell_type": "markdown",
   "id": "e75c0289-3fd4-4fa9-9bd2-5f0ac49f713a",
   "metadata": {
    "jp-MarkdownHeadingCollapsed": true,
    "tags": []
   },
   "source": [
    "# 31"
   ]
  },
  {
   "cell_type": "markdown",
   "id": "50cf6b01-38a1-49c8-91a1-534863994ac1",
   "metadata": {},
   "source": [
    "На примере массива \n",
    "```\n",
    "x = np.array([[1., 2.], [np.nan, 3.], [5., 5.], [np.nan, np.nan]])\n",
    "```\n",
    "составьте массив из уникальных значений массива без учета nan"
   ]
  },
  {
   "cell_type": "code",
   "execution_count": 3,
   "id": "0350171e-6c64-413f-81c6-8bed3f88d4c4",
   "metadata": {
    "execution": {
     "iopub.execute_input": "2023-06-19T07:41:14.656702Z",
     "iopub.status.busy": "2023-06-19T07:41:14.656120Z",
     "iopub.status.idle": "2023-06-19T07:41:14.671588Z",
     "shell.execute_reply": "2023-06-19T07:41:14.669651Z",
     "shell.execute_reply.started": "2023-06-19T07:41:14.656647Z"
    },
    "tags": []
   },
   "outputs": [
    {
     "data": {
      "text/plain": [
       "array([1., 2., 3., 5.])"
      ]
     },
     "execution_count": 3,
     "metadata": {},
     "output_type": "execute_result"
    }
   ],
   "source": [
    "x = np.array([[1., 2.], [np.nan, 3.], [5., 5.], [np.nan, np.nan]])\n",
    "np.unique(x[~np.isnan(x)])"
   ]
  },
  {
   "cell_type": "markdown",
   "id": "f5765cd9-cc25-4873-9f55-5f565955dc3e",
   "metadata": {
    "jp-MarkdownHeadingCollapsed": true,
    "tags": []
   },
   "source": [
    "# 32"
   ]
  },
  {
   "cell_type": "markdown",
   "id": "4f6d8995-2383-4a4e-bce1-adffbe98ba02",
   "metadata": {},
   "source": [
    "На примере массива \n",
    "```\n",
    "x = np.array([6, 2, 0, 3, 0, 0, 5, 7, 0])\n",
    "```\n",
    "найдите максимальный элемент в массиве среди элементов, перед которыми стоит нулевой"
   ]
  },
  {
   "cell_type": "code",
   "execution_count": 12,
   "id": "90cd673b-cee4-4983-9633-2d70b64f6942",
   "metadata": {
    "execution": {
     "iopub.execute_input": "2023-06-19T07:53:38.257001Z",
     "iopub.status.busy": "2023-06-19T07:53:38.256429Z",
     "iopub.status.idle": "2023-06-19T07:53:38.272253Z",
     "shell.execute_reply": "2023-06-19T07:53:38.270286Z",
     "shell.execute_reply.started": "2023-06-19T07:53:38.256947Z"
    },
    "tags": []
   },
   "outputs": [
    {
     "data": {
      "text/plain": [
       "5"
      ]
     },
     "execution_count": 12,
     "metadata": {},
     "output_type": "execute_result"
    }
   ],
   "source": [
    "x = np.array([6, 2, 0, 3, 0, 0, 5, 7, 0])\n",
    "mask = np.zeros(x.shape[0], dtype=bool)\n",
    "mask[1:] = x[:-1] == 0\n",
    "#x[mask].max()\n",
    "x[mask].max()"
   ]
  },
  {
   "cell_type": "code",
   "execution_count": 3,
   "id": "f19b8e46-060d-49b8-9a7a-635d35a59704",
   "metadata": {
    "execution": {
     "iopub.execute_input": "2023-06-19T14:19:36.642942Z",
     "iopub.status.busy": "2023-06-19T14:19:36.642288Z",
     "iopub.status.idle": "2023-06-19T14:19:37.048923Z",
     "shell.execute_reply": "2023-06-19T14:19:37.047013Z",
     "shell.execute_reply.started": "2023-06-19T14:19:36.642885Z"
    },
    "tags": []
   },
   "outputs": [
    {
     "ename": "ValueError",
     "evalue": "zero-size array to reduction operation maximum which has no identity",
     "output_type": "error",
     "traceback": [
      "\u001b[0;31m---------------------------------------------------------------------------\u001b[0m",
      "\u001b[0;31mValueError\u001b[0m                                Traceback (most recent call last)",
      "Cell \u001b[0;32mIn[3], line 1\u001b[0m\n\u001b[0;32m----> 1\u001b[0m \u001b[43mnp\u001b[49m\u001b[38;5;241;43m.\u001b[39;49m\u001b[43marray\u001b[49m\u001b[43m(\u001b[49m\u001b[43m[\u001b[49m\u001b[43m]\u001b[49m\u001b[43m)\u001b[49m\u001b[38;5;241;43m.\u001b[39;49m\u001b[43mmax\u001b[49m\u001b[43m(\u001b[49m\u001b[43m)\u001b[49m\n",
      "File \u001b[0;32m~/.pyenv/versions/3.8.16/lib/python3.8/site-packages/numpy/core/_methods.py:41\u001b[0m, in \u001b[0;36m_amax\u001b[0;34m(a, axis, out, keepdims, initial, where)\u001b[0m\n\u001b[1;32m     39\u001b[0m \u001b[38;5;28;01mdef\u001b[39;00m \u001b[38;5;21m_amax\u001b[39m(a, axis\u001b[38;5;241m=\u001b[39m\u001b[38;5;28;01mNone\u001b[39;00m, out\u001b[38;5;241m=\u001b[39m\u001b[38;5;28;01mNone\u001b[39;00m, keepdims\u001b[38;5;241m=\u001b[39m\u001b[38;5;28;01mFalse\u001b[39;00m,\n\u001b[1;32m     40\u001b[0m           initial\u001b[38;5;241m=\u001b[39m_NoValue, where\u001b[38;5;241m=\u001b[39m\u001b[38;5;28;01mTrue\u001b[39;00m):\n\u001b[0;32m---> 41\u001b[0m     \u001b[38;5;28;01mreturn\u001b[39;00m \u001b[43mumr_maximum\u001b[49m\u001b[43m(\u001b[49m\u001b[43ma\u001b[49m\u001b[43m,\u001b[49m\u001b[43m \u001b[49m\u001b[43maxis\u001b[49m\u001b[43m,\u001b[49m\u001b[43m \u001b[49m\u001b[38;5;28;43;01mNone\u001b[39;49;00m\u001b[43m,\u001b[49m\u001b[43m \u001b[49m\u001b[43mout\u001b[49m\u001b[43m,\u001b[49m\u001b[43m \u001b[49m\u001b[43mkeepdims\u001b[49m\u001b[43m,\u001b[49m\u001b[43m \u001b[49m\u001b[43minitial\u001b[49m\u001b[43m,\u001b[49m\u001b[43m \u001b[49m\u001b[43mwhere\u001b[49m\u001b[43m)\u001b[49m\n",
      "\u001b[0;31mValueError\u001b[0m: zero-size array to reduction operation maximum which has no identity"
     ]
    }
   ],
   "source": [
    "np.array([]).max()"
   ]
  },
  {
   "cell_type": "markdown",
   "id": "3edfa8f4-aa0b-43b3-9c12-df462093db37",
   "metadata": {
    "jp-MarkdownHeadingCollapsed": true,
    "tags": []
   },
   "source": [
    "# 33"
   ]
  },
  {
   "cell_type": "markdown",
   "id": "3e0a5211-b9a9-4b57-832b-c5add6337ec9",
   "metadata": {},
   "source": [
    "Пусть заданы два массива одинакового размера. Поэлементно разделите один массив на другой. В случае, если делитель равен нулю, соответствующему элементу результирующего массива присвойте нуль."
   ]
  },
  {
   "cell_type": "code",
   "execution_count": 240,
   "id": "b84ca5e7-03a3-455b-805a-571033f75657",
   "metadata": {
    "execution": {
     "iopub.execute_input": "2023-06-22T14:19:05.698490Z",
     "iopub.status.busy": "2023-06-22T14:19:05.697930Z",
     "iopub.status.idle": "2023-06-22T14:19:05.713410Z",
     "shell.execute_reply": "2023-06-22T14:19:05.711802Z",
     "shell.execute_reply.started": "2023-06-22T14:19:05.698436Z"
    },
    "tags": []
   },
   "outputs": [
    {
     "name": "stdout",
     "output_type": "stream",
     "text": [
      "[-5. -4. -3. -2. -1.  0.  1.  2.  3.  4.]\n",
      "[-3. -2. -1.  0.  1.  2.  3.  4.  5.  6.]\n"
     ]
    },
    {
     "data": {
      "text/plain": [
       "array([ 1.66666667,  2.        ,  3.        ,  0.        , -1.        ,\n",
       "        0.        ,  0.33333333,  0.5       ,  0.6       ,  0.66666667])"
      ]
     },
     "execution_count": 240,
     "metadata": {},
     "output_type": "execute_result"
    }
   ],
   "source": [
    "a = np.arange(-5, 5, dtype=float)\n",
    "b = np.arange(-3, 7, dtype=float)\n",
    "print(a)\n",
    "print(b)\n",
    "np.divide(a, b, where=b!=0)"
   ]
  },
  {
   "cell_type": "code",
   "execution_count": 244,
   "id": "92e97206-788f-47b7-aa63-f952592ac468",
   "metadata": {
    "execution": {
     "iopub.execute_input": "2023-06-22T14:19:21.893958Z",
     "iopub.status.busy": "2023-06-22T14:19:21.892657Z",
     "iopub.status.idle": "2023-06-22T14:19:21.904273Z",
     "shell.execute_reply": "2023-06-22T14:19:21.902895Z",
     "shell.execute_reply.started": "2023-06-22T14:19:21.893902Z"
    },
    "tags": []
   },
   "outputs": [
    {
     "data": {
      "text/plain": [
       "array([-3., -2., -1.,  0.,  1.,  2.,  3.,  4.,  5.,  6.])"
      ]
     },
     "execution_count": 244,
     "metadata": {},
     "output_type": "execute_result"
    }
   ],
   "source": [
    "b = np.zeros(10, dtype=np.int16)\n",
    "np.divide(a, b, where=b!=0)"
   ]
  },
  {
   "cell_type": "markdown",
   "id": "05162856-2c97-4c90-8407-ee0ba04016f6",
   "metadata": {
    "jp-MarkdownHeadingCollapsed": true,
    "tags": []
   },
   "source": [
    "# 34"
   ]
  },
  {
   "cell_type": "markdown",
   "id": "48b470a9-4450-4223-8a2b-30ff0ad81fa9",
   "metadata": {},
   "source": [
    "Пусть заданы два массива \n",
    "```\n",
    "x = np.ones(10) и i = np.array([0, 1, 2, 3, 5, 5, 5, 8]).\n",
    "```\n",
    "Прибавьте единицу к тем элементам массива x, индексы которых указаны в массиве i. В случае, если некоторый индекс встретился в массиве i несколько раз, прибавьте к соответствующему элементу массива x число вхождений данного индекса в массив i."
   ]
  },
  {
   "cell_type": "code",
   "execution_count": 23,
   "id": "ed571208-6b23-41f3-bf54-575cbc53f92e",
   "metadata": {
    "execution": {
     "iopub.execute_input": "2023-06-19T08:05:58.622644Z",
     "iopub.status.busy": "2023-06-19T08:05:58.622082Z",
     "iopub.status.idle": "2023-06-19T08:05:58.637179Z",
     "shell.execute_reply": "2023-06-19T08:05:58.635229Z",
     "shell.execute_reply.started": "2023-06-19T08:05:58.622592Z"
    },
    "tags": []
   },
   "outputs": [
    {
     "data": {
      "text/plain": [
       "array([2., 2., 2., 2., 1., 4., 1., 1., 2., 1.])"
      ]
     },
     "execution_count": 23,
     "metadata": {},
     "output_type": "execute_result"
    }
   ],
   "source": [
    "x = np.ones(10)\n",
    "i = np.array([0, 1, 2, 3, 5, 5, 5, 8])\n",
    "np.add.at(x, i, 1)\n",
    "x"
   ]
  },
  {
   "cell_type": "markdown",
   "id": "48223125-ea44-43a1-be7f-ea6dc1bc0582",
   "metadata": {
    "jp-MarkdownHeadingCollapsed": true,
    "tags": []
   },
   "source": [
    "# 35"
   ]
  },
  {
   "cell_type": "markdown",
   "id": "485e5768-faea-4676-8c1f-c1f36f2ba3b2",
   "metadata": {},
   "source": [
    "По заданному массиву \n",
    "```\n",
    "y = np.bincount([0, 0, 3, 8, 10, 10, 11])\n",
    "```\n",
    "постройте массив x такой, чтобы np.bincount(x) = y"
   ]
  },
  {
   "cell_type": "code",
   "execution_count": 190,
   "id": "9b753ca8-07be-4d5d-9d2f-ed65e2c271d8",
   "metadata": {
    "execution": {
     "iopub.execute_input": "2023-06-22T12:41:56.200850Z",
     "iopub.status.busy": "2023-06-22T12:41:56.200287Z",
     "iopub.status.idle": "2023-06-22T12:41:56.212832Z",
     "shell.execute_reply": "2023-06-22T12:41:56.211246Z",
     "shell.execute_reply.started": "2023-06-22T12:41:56.200797Z"
    },
    "tags": []
   },
   "outputs": [
    {
     "data": {
      "text/plain": [
       "array([ 0,  0,  3,  8, 10, 10, 11])"
      ]
     },
     "execution_count": 190,
     "metadata": {},
     "output_type": "execute_result"
    }
   ],
   "source": [
    "y = np.bincount([0, 0, 3, 8, 10, 10, 11])\n",
    "x = np.repeat(np.arange(y.shape[0]), y)\n",
    "x"
   ]
  },
  {
   "cell_type": "markdown",
   "id": "14934610-99d6-4823-9b00-0ee7df332c23",
   "metadata": {
    "jp-MarkdownHeadingCollapsed": true,
    "tags": []
   },
   "source": [
    "# 36"
   ]
  },
  {
   "cell_type": "markdown",
   "id": "8dd2d633-f636-4af3-8759-089b4353e39e",
   "metadata": {},
   "source": [
    "Определите самые часто встречающиеся элементы в массиве целых неотрицательных чисел.\n",
    "Решите задачу на примере массива \n",
    "\n",
    "```x = np.array([0,1,2,0,6,6,7,4,5,4]).```"
   ]
  },
  {
   "cell_type": "code",
   "execution_count": 182,
   "id": "26104954-8a54-4322-88ab-c367ac2fc005",
   "metadata": {
    "execution": {
     "iopub.execute_input": "2023-06-19T13:45:45.020589Z",
     "iopub.status.busy": "2023-06-19T13:45:45.019627Z",
     "iopub.status.idle": "2023-06-19T13:45:45.033002Z",
     "shell.execute_reply": "2023-06-19T13:45:45.031388Z",
     "shell.execute_reply.started": "2023-06-19T13:45:45.020532Z"
    },
    "tags": []
   },
   "outputs": [
    {
     "data": {
      "text/plain": [
       "array([0, 4, 6])"
      ]
     },
     "execution_count": 182,
     "metadata": {},
     "output_type": "execute_result"
    }
   ],
   "source": [
    "x = np.array([0,1,2,0,6,6,7,4,5,4])\n",
    "bincount = np.bincount(x)\n",
    "np.where(bincount == np.max(bincount))[0]"
   ]
  },
  {
   "cell_type": "code",
   "execution_count": 7,
   "id": "33585706-4bb0-4283-bc7d-3f79cca6eb49",
   "metadata": {
    "execution": {
     "iopub.execute_input": "2023-06-19T14:44:12.104644Z",
     "iopub.status.busy": "2023-06-19T14:44:12.104083Z",
     "iopub.status.idle": "2023-06-19T14:44:12.184033Z",
     "shell.execute_reply": "2023-06-19T14:44:12.181420Z",
     "shell.execute_reply.started": "2023-06-19T14:44:12.104594Z"
    },
    "tags": []
   },
   "outputs": [
    {
     "ename": "ValueError",
     "evalue": "'list' argument must have no negative elements",
     "output_type": "error",
     "traceback": [
      "\u001b[0;31m---------------------------------------------------------------------------\u001b[0m",
      "\u001b[0;31mValueError\u001b[0m                                Traceback (most recent call last)",
      "Cell \u001b[0;32mIn[7], line 1\u001b[0m\n\u001b[0;32m----> 1\u001b[0m \u001b[43mnp\u001b[49m\u001b[38;5;241;43m.\u001b[39;49m\u001b[43mbincount\u001b[49m\u001b[43m(\u001b[49m\u001b[43mnp\u001b[49m\u001b[38;5;241;43m.\u001b[39;49m\u001b[43marray\u001b[49m\u001b[43m(\u001b[49m\u001b[43m[\u001b[49m\u001b[38;5;241;43m-\u001b[39;49m\u001b[38;5;241;43m3\u001b[39;49m\u001b[43m,\u001b[49m\u001b[43m \u001b[49m\u001b[38;5;241;43m0\u001b[39;49m\u001b[43m,\u001b[49m\u001b[43m \u001b[49m\u001b[38;5;241;43m5\u001b[39;49m\u001b[43m,\u001b[49m\u001b[43m \u001b[49m\u001b[38;5;241;43m10\u001b[39;49m\u001b[43m]\u001b[49m\u001b[43m)\u001b[49m\u001b[43m)\u001b[49m\n",
      "File \u001b[0;32m<__array_function__ internals>:200\u001b[0m, in \u001b[0;36mbincount\u001b[0;34m(*args, **kwargs)\u001b[0m\n",
      "\u001b[0;31mValueError\u001b[0m: 'list' argument must have no negative elements"
     ]
    }
   ],
   "source": [
    "np.bincount(np.array([-3, 0, 5, 10]))"
   ]
  },
  {
   "cell_type": "markdown",
   "id": "dc99a12e-d9fe-4803-8869-3634de00ad5a",
   "metadata": {
    "jp-MarkdownHeadingCollapsed": true,
    "tags": []
   },
   "source": [
    "# 37"
   ]
  },
  {
   "cell_type": "markdown",
   "id": "b8fc9bac-c787-4832-abfc-db9eb713eaaf",
   "metadata": {},
   "source": [
    "Разбейте двумерный массив на список двумерных массивов по уникальным значениям в первом столбце.\n",
    "Решите задачу на примере массива \n",
    "```\n",
    "x = np.array([[1, 2], [1, 3], [2, 2], [3, 4], [3, 5]]),\n",
    "```\n",
    "в результате должен получиться список \n",
    "```[array([[1, 2], [1, 3]]), array([[2, 2]]), array([[3, 4], [3, 5]])].```"
   ]
  },
  {
   "cell_type": "code",
   "execution_count": 8,
   "id": "13797d98-8005-4d64-ac62-34a811f0b888",
   "metadata": {
    "execution": {
     "iopub.execute_input": "2023-06-19T14:52:02.109994Z",
     "iopub.status.busy": "2023-06-19T14:52:02.109350Z",
     "iopub.status.idle": "2023-06-19T14:52:02.127322Z",
     "shell.execute_reply": "2023-06-19T14:52:02.125082Z",
     "shell.execute_reply.started": "2023-06-19T14:52:02.109937Z"
    },
    "tags": []
   },
   "outputs": [
    {
     "data": {
      "text/plain": [
       "[array([[1, 2],\n",
       "        [1, 3]]),\n",
       " array([[2, 2]]),\n",
       " array([[3, 4],\n",
       "        [3, 5],\n",
       "        [1, 5]])]"
      ]
     },
     "execution_count": 8,
     "metadata": {},
     "output_type": "execute_result"
    }
   ],
   "source": [
    "x = np.array([[1, 2], [1, 3], [2, 2], [3, 4], [3, 5], [1, 5]])\n",
    "unique, indices = np.unique(x[:, 0], return_index=True)\n",
    "np.split(x, indices[1:])"
   ]
  },
  {
   "cell_type": "code",
   "execution_count": 14,
   "id": "7611436a-f621-4f8e-92a6-44aafdaa055f",
   "metadata": {
    "execution": {
     "iopub.execute_input": "2023-06-19T15:08:21.836694Z",
     "iopub.status.busy": "2023-06-19T15:08:21.836094Z",
     "iopub.status.idle": "2023-06-19T15:08:21.854306Z",
     "shell.execute_reply": "2023-06-19T15:08:21.852074Z",
     "shell.execute_reply.started": "2023-06-19T15:08:21.836639Z"
    },
    "tags": []
   },
   "outputs": [
    {
     "data": {
      "text/plain": [
       "[array([[1, 2],\n",
       "        [1, 3],\n",
       "        [1, 5]]),\n",
       " array([[2, 2]]),\n",
       " array([[3, 4],\n",
       "        [3, 5]])]"
      ]
     },
     "execution_count": 14,
     "metadata": {},
     "output_type": "execute_result"
    }
   ],
   "source": [
    "x = np.array([[1, 2], [1, 3], [2, 2], [3, 4], [3, 5], [1, 5]])\n",
    "x = x[x[:, 0].argsort()]\n",
    "indices = np.where(x[:-1, 0] != x[1:, 0])[0] + 1\n",
    "np.split(x, indices)\n",
    "#indices"
   ]
  },
  {
   "cell_type": "markdown",
   "id": "f2041d2d-96da-4e14-a9b3-31e5c74fb487",
   "metadata": {
    "jp-MarkdownHeadingCollapsed": true,
    "tags": []
   },
   "source": [
    "# 38"
   ]
  },
  {
   "cell_type": "markdown",
   "id": "0679e24a-d2db-44e8-ab37-5332387bc0b5",
   "metadata": {},
   "source": [
    "\"По заданному одномерному массиву неотрицательных чисел постройте список подмассивов, сожержащих элементы из полуинтервалов\n",
    "\n",
    "```[i * 10, (i+1) * 10), i = 0, 1, 2, …```\n",
    "\n",
    "Решите задачу на примере массива\n",
    "\n",
    "```x = np.array([8, 2, 34, 0, 11, 18, 13, 2, 24, 10, 20]),``` \n",
    "в результате должен получиться список \n",
    "```\n",
    "[array([0, 2, 2, 8]), array([10, 11, 13, 18]), array([20, 24]), array([34])].\n",
    "```"
   ]
  },
  {
   "cell_type": "code",
   "execution_count": 198,
   "id": "5a2f62a6-eebc-4ca0-a788-569e582050e5",
   "metadata": {
    "execution": {
     "iopub.execute_input": "2023-06-27T12:30:04.994029Z",
     "iopub.status.busy": "2023-06-27T12:30:04.993594Z",
     "iopub.status.idle": "2023-06-27T12:30:07.872945Z",
     "shell.execute_reply": "2023-06-27T12:30:07.871977Z",
     "shell.execute_reply.started": "2023-06-27T12:30:04.994000Z"
    },
    "tags": []
   },
   "outputs": [
    {
     "name": "stdout",
     "output_type": "stream",
     "text": [
      "353 µs ± 774 ns per loop (mean ± std. dev. of 7 runs, 1,000 loops each)\n"
     ]
    }
   ],
   "source": [
    "%%timeit\n",
    "#x = np.array([8, 2, 34, 0, 11, 18, 13, 2, 24, 10, 20, 80])\n",
    "x = np.random.randint(0, 100, size=10000)\n",
    "x.sort()\n",
    "\n",
    "bins = x[-1] // 10 + 1\n",
    "intervals = np.arange(10, bins*10, step=10)\n",
    "\n",
    "indices = np.searchsorted(x, intervals, side='left')\n",
    "result = np.split(x, indices)"
   ]
  },
  {
   "cell_type": "code",
   "execution_count": 239,
   "id": "16bb6250-4064-4364-aee7-51ca83ecda05",
   "metadata": {
    "execution": {
     "iopub.execute_input": "2023-06-27T13:20:32.828887Z",
     "iopub.status.busy": "2023-06-27T13:20:32.828484Z",
     "iopub.status.idle": "2023-06-27T13:20:41.046666Z",
     "shell.execute_reply": "2023-06-27T13:20:41.045707Z",
     "shell.execute_reply.started": "2023-06-27T13:20:32.828857Z"
    },
    "tags": []
   },
   "outputs": [
    {
     "name": "stdout",
     "output_type": "stream",
     "text": [
      "999 µs ± 435 ns per loop (mean ± std. dev. of 7 runs, 1,000 loops each)\n"
     ]
    }
   ],
   "source": [
    "%%timeit\n",
    "#x = np.array([8, 2, 34, 0, 11, 18, 13, 2, 24, 10, 20, 80])\n",
    "x = np.random.randint(0, 100, size=10000)\n",
    "bins = set(x // 10)\n",
    "result = [x[np.where(x//10 == bin_)] for bin_ in bins]\n",
    "#result"
   ]
  },
  {
   "cell_type": "code",
   "execution_count": 253,
   "id": "3ff664d6-ee27-4253-a1fe-7a2f51edfe97",
   "metadata": {
    "execution": {
     "iopub.execute_input": "2023-06-27T13:29:18.987124Z",
     "iopub.status.busy": "2023-06-27T13:29:18.985767Z",
     "iopub.status.idle": "2023-06-27T13:29:27.038410Z",
     "shell.execute_reply": "2023-06-27T13:29:27.037461Z",
     "shell.execute_reply.started": "2023-06-27T13:29:18.987061Z"
    },
    "tags": []
   },
   "outputs": [
    {
     "name": "stdout",
     "output_type": "stream",
     "text": [
      "972 µs ± 816 ns per loop (mean ± std. dev. of 7 runs, 1,000 loops each)\n"
     ]
    }
   ],
   "source": [
    "%%timeit\n",
    "#x = np.array([8, 2, 34, 0, 11, 18, 13, 2, 24, 10, 20, 80])\n",
    "x = np.random.randint(0, 100, size=10000)\n",
    "bins = np.array(list(set(x // 10))).reshape(-1, 1)\n",
    "\n",
    "mask = x//10 == bins\n",
    "result = [x[mask[i]] for i in range(mask.shape[0])]\n",
    "#result"
   ]
  },
  {
   "cell_type": "code",
   "execution_count": 200,
   "id": "e28eae8d-5685-4de6-9484-52c23486bbaa",
   "metadata": {
    "execution": {
     "iopub.execute_input": "2023-06-27T12:30:11.678112Z",
     "iopub.status.busy": "2023-06-27T12:30:11.677752Z",
     "iopub.status.idle": "2023-06-27T12:30:13.624713Z",
     "shell.execute_reply": "2023-06-27T12:30:13.623766Z",
     "shell.execute_reply.started": "2023-06-27T12:30:11.678088Z"
    },
    "tags": []
   },
   "outputs": [
    {
     "name": "stdout",
     "output_type": "stream",
     "text": [
      "2.39 ms ± 2.54 µs per loop (mean ± std. dev. of 7 runs, 100 loops each)\n"
     ]
    }
   ],
   "source": [
    "%%timeit\n",
    "#x = np.array([8, 2, 34, 0, 11, 18, 13, 2, 24, 10, 20, 80])\n",
    "x = np.random.randint(0, 100, size=10000)\n",
    "intervals = {}\n",
    "for elem in x:\n",
    "    try:\n",
    "        intervals[elem//10].append(elem)\n",
    "    except KeyError:\n",
    "        intervals[elem//10] = [elem]\n",
    "        \n",
    "result = [np.array(intervals[key]) for key in intervals.keys()]\n",
    "#result"
   ]
  },
  {
   "cell_type": "markdown",
   "id": "8e468b23-8408-4c20-a783-cd47e32ed2dd",
   "metadata": {
    "jp-MarkdownHeadingCollapsed": true,
    "tags": []
   },
   "source": [
    "# 39"
   ]
  },
  {
   "cell_type": "markdown",
   "id": "2b6fc9d5-2dbf-47c0-ba34-788ff0f4b90a",
   "metadata": {},
   "source": [
    "Перечислите все известные вам способы соединения заданных двумерных массивов по вертикали. Какой из способов работает быстрее?"
   ]
  },
  {
   "cell_type": "code",
   "execution_count": 15,
   "id": "375a761c-1eb1-460b-ba1e-a79fda653873",
   "metadata": {
    "execution": {
     "iopub.execute_input": "2023-06-19T15:14:52.127717Z",
     "iopub.status.busy": "2023-06-19T15:14:52.127033Z",
     "iopub.status.idle": "2023-06-19T15:14:52.137150Z",
     "shell.execute_reply": "2023-06-19T15:14:52.134854Z",
     "shell.execute_reply.started": "2023-06-19T15:14:52.127656Z"
    },
    "tags": []
   },
   "outputs": [],
   "source": [
    "a = np.arange(0, 6).reshape(2, 3)\n",
    "b = np.arange(6, 15).reshape(3, 3)"
   ]
  },
  {
   "cell_type": "code",
   "execution_count": 16,
   "id": "8ccdd853-e7ae-44e7-aa1b-9d90e65acac5",
   "metadata": {
    "execution": {
     "iopub.execute_input": "2023-06-19T15:14:53.653946Z",
     "iopub.status.busy": "2023-06-19T15:14:53.652941Z",
     "iopub.status.idle": "2023-06-19T15:14:53.666066Z",
     "shell.execute_reply": "2023-06-19T15:14:53.663847Z",
     "shell.execute_reply.started": "2023-06-19T15:14:53.653889Z"
    },
    "tags": []
   },
   "outputs": [
    {
     "data": {
      "text/plain": [
       "array([[ 0,  1,  2],\n",
       "       [ 3,  4,  5],\n",
       "       [ 6,  7,  8],\n",
       "       [ 9, 10, 11],\n",
       "       [12, 13, 14]])"
      ]
     },
     "execution_count": 16,
     "metadata": {},
     "output_type": "execute_result"
    }
   ],
   "source": [
    "#%%timeit\n",
    "np.concatenate((a, b), axis=0)"
   ]
  },
  {
   "cell_type": "code",
   "execution_count": 17,
   "id": "b9a3768d-7611-4910-8f7e-db34bf799fda",
   "metadata": {
    "execution": {
     "iopub.execute_input": "2023-06-19T15:14:57.328615Z",
     "iopub.status.busy": "2023-06-19T15:14:57.327543Z",
     "iopub.status.idle": "2023-06-19T15:14:57.340376Z",
     "shell.execute_reply": "2023-06-19T15:14:57.338316Z",
     "shell.execute_reply.started": "2023-06-19T15:14:57.328557Z"
    },
    "tags": []
   },
   "outputs": [
    {
     "data": {
      "text/plain": [
       "array([[ 0,  1,  2],\n",
       "       [ 3,  4,  5],\n",
       "       [ 6,  7,  8],\n",
       "       [ 9, 10, 11],\n",
       "       [12, 13, 14]])"
      ]
     },
     "execution_count": 17,
     "metadata": {},
     "output_type": "execute_result"
    }
   ],
   "source": [
    "#%%timeit\n",
    "np.vstack((a, b))"
   ]
  },
  {
   "cell_type": "code",
   "execution_count": 20,
   "id": "0be6c5e0-c12f-48b4-98d1-75f89ae32ec5",
   "metadata": {
    "execution": {
     "iopub.execute_input": "2023-06-19T15:17:37.313841Z",
     "iopub.status.busy": "2023-06-19T15:17:37.313352Z",
     "iopub.status.idle": "2023-06-19T15:17:37.412478Z",
     "shell.execute_reply": "2023-06-19T15:17:37.409990Z",
     "shell.execute_reply.started": "2023-06-19T15:17:37.313797Z"
    },
    "tags": []
   },
   "outputs": [
    {
     "ename": "ValueError",
     "evalue": "all input arrays must have the same shape",
     "output_type": "error",
     "traceback": [
      "\u001b[0;31m---------------------------------------------------------------------------\u001b[0m",
      "\u001b[0;31mValueError\u001b[0m                                Traceback (most recent call last)",
      "Cell \u001b[0;32mIn[20], line 2\u001b[0m\n\u001b[1;32m      1\u001b[0m \u001b[38;5;66;03m#%%timeit\u001b[39;00m\n\u001b[0;32m----> 2\u001b[0m \u001b[43mnp\u001b[49m\u001b[38;5;241;43m.\u001b[39;49m\u001b[43mstack\u001b[49m\u001b[43m(\u001b[49m\u001b[43m(\u001b[49m\u001b[43ma\u001b[49m\u001b[43m,\u001b[49m\u001b[43mb\u001b[49m\u001b[43m)\u001b[49m\u001b[43m)\u001b[49m\n",
      "File \u001b[0;32m<__array_function__ internals>:200\u001b[0m, in \u001b[0;36mstack\u001b[0;34m(*args, **kwargs)\u001b[0m\n",
      "File \u001b[0;32m~/.pyenv/versions/3.8.16/lib/python3.8/site-packages/numpy/core/shape_base.py:464\u001b[0m, in \u001b[0;36mstack\u001b[0;34m(arrays, axis, out, dtype, casting)\u001b[0m\n\u001b[1;32m    462\u001b[0m shapes \u001b[38;5;241m=\u001b[39m {arr\u001b[38;5;241m.\u001b[39mshape \u001b[38;5;28;01mfor\u001b[39;00m arr \u001b[38;5;129;01min\u001b[39;00m arrays}\n\u001b[1;32m    463\u001b[0m \u001b[38;5;28;01mif\u001b[39;00m \u001b[38;5;28mlen\u001b[39m(shapes) \u001b[38;5;241m!=\u001b[39m \u001b[38;5;241m1\u001b[39m:\n\u001b[0;32m--> 464\u001b[0m     \u001b[38;5;28;01mraise\u001b[39;00m \u001b[38;5;167;01mValueError\u001b[39;00m(\u001b[38;5;124m'\u001b[39m\u001b[38;5;124mall input arrays must have the same shape\u001b[39m\u001b[38;5;124m'\u001b[39m)\n\u001b[1;32m    466\u001b[0m result_ndim \u001b[38;5;241m=\u001b[39m arrays[\u001b[38;5;241m0\u001b[39m]\u001b[38;5;241m.\u001b[39mndim \u001b[38;5;241m+\u001b[39m \u001b[38;5;241m1\u001b[39m\n\u001b[1;32m    467\u001b[0m axis \u001b[38;5;241m=\u001b[39m normalize_axis_index(axis, result_ndim)\n",
      "\u001b[0;31mValueError\u001b[0m: all input arrays must have the same shape"
     ]
    }
   ],
   "source": [
    "#%%timeit\n",
    "np.stack((a,b))"
   ]
  },
  {
   "cell_type": "markdown",
   "id": "918c795e-e864-49bf-9566-250887d3aa82",
   "metadata": {
    "jp-MarkdownHeadingCollapsed": true,
    "tags": []
   },
   "source": [
    "# 40"
   ]
  },
  {
   "cell_type": "markdown",
   "id": "51968072-dbac-492a-92c9-19bf25fa20a7",
   "metadata": {},
   "source": [
    "Для двух одномерных массивов x = np.arange(3) и y = np.arange(5) постройте двумерный массив строки которого - всевозможные пары элементов из x и y."
   ]
  },
  {
   "cell_type": "code",
   "execution_count": 102,
   "id": "c904817e-f6a7-4994-ad6d-91b969890385",
   "metadata": {
    "execution": {
     "iopub.execute_input": "2023-06-19T10:12:37.101111Z",
     "iopub.status.busy": "2023-06-19T10:12:37.100162Z",
     "iopub.status.idle": "2023-06-19T10:12:37.112931Z",
     "shell.execute_reply": "2023-06-19T10:12:37.111540Z",
     "shell.execute_reply.started": "2023-06-19T10:12:37.101054Z"
    },
    "tags": []
   },
   "outputs": [
    {
     "data": {
      "text/plain": [
       "array([[0, 0],\n",
       "       [1, 0],\n",
       "       [2, 0],\n",
       "       [0, 1],\n",
       "       [1, 1],\n",
       "       [2, 1],\n",
       "       [0, 2],\n",
       "       [1, 2],\n",
       "       [2, 2],\n",
       "       [0, 3],\n",
       "       [1, 3],\n",
       "       [2, 3],\n",
       "       [0, 4],\n",
       "       [1, 4],\n",
       "       [2, 4]])"
      ]
     },
     "execution_count": 102,
     "metadata": {},
     "output_type": "execute_result"
    }
   ],
   "source": [
    "x = np.arange(3)\n",
    "y = np.arange(5)\n",
    "\n",
    "np.dstack(np.meshgrid(x, y)).reshape(-1, 2)"
   ]
  },
  {
   "cell_type": "markdown",
   "id": "38453539-beaa-48fb-84c8-0e4d28a48f6d",
   "metadata": {
    "jp-MarkdownHeadingCollapsed": true,
    "tags": []
   },
   "source": [
    "# 41"
   ]
  },
  {
   "cell_type": "markdown",
   "id": "f5ac4aa5-89f2-45e4-b181-9fb4676c7e88",
   "metadata": {},
   "source": [
    "По двум входным одномерным массивам одинаковой длины составьте массив пар элементов с одинаковыми индесами.\n",
    "Решите задачу на примере массивов \n",
    "```\n",
    "x = np.array([1,2,3,4]) и y = np.array([5,6,7,8]).\n",
    "```"
   ]
  },
  {
   "cell_type": "code",
   "execution_count": 256,
   "id": "412a958f-0883-403f-b8d2-82d1a75e9251",
   "metadata": {
    "execution": {
     "iopub.execute_input": "2023-06-22T14:56:51.172365Z",
     "iopub.status.busy": "2023-06-22T14:56:51.171775Z",
     "iopub.status.idle": "2023-06-22T14:56:51.185227Z",
     "shell.execute_reply": "2023-06-22T14:56:51.183408Z",
     "shell.execute_reply.started": "2023-06-22T14:56:51.172311Z"
    },
    "tags": []
   },
   "outputs": [
    {
     "name": "stdout",
     "output_type": "stream",
     "text": [
      "[[1 5]\n",
      " [2 6]\n",
      " [3 7]\n",
      " [4 8]]\n",
      "[[[1 5]\n",
      "  [2 6]\n",
      "  [3 7]\n",
      "  [4 8]]]\n",
      "[[1 5]\n",
      " [2 6]\n",
      " [3 7]\n",
      " [4 8]]\n"
     ]
    }
   ],
   "source": [
    "x = np.array([1, 2, 3, 4])\n",
    "y = np.array([5, 6, 7, 8])\n",
    "\n",
    "print(np.concatenate((x[:,np.newaxis], y[:,np.newaxis]), axis=1))\n",
    "print(np.dstack((x,y)))\n",
    "print(np.dstack((x,y)).squeeze())"
   ]
  },
  {
   "cell_type": "code",
   "execution_count": 260,
   "id": "6e41d61f-8b80-4341-8e02-fdca585f15ab",
   "metadata": {
    "execution": {
     "iopub.execute_input": "2023-06-22T14:58:35.553476Z",
     "iopub.status.busy": "2023-06-22T14:58:35.552918Z",
     "iopub.status.idle": "2023-06-22T14:58:35.563863Z",
     "shell.execute_reply": "2023-06-22T14:58:35.562274Z",
     "shell.execute_reply.started": "2023-06-22T14:58:35.553424Z"
    },
    "tags": []
   },
   "outputs": [
    {
     "data": {
      "text/plain": [
       "array([[1, 5],\n",
       "       [2, 6],\n",
       "       [3, 7],\n",
       "       [4, 8]])"
      ]
     },
     "execution_count": 260,
     "metadata": {},
     "output_type": "execute_result"
    }
   ],
   "source": [
    "np.column_stack((x, y))"
   ]
  },
  {
   "cell_type": "markdown",
   "id": "382b82e4-4bd0-42b1-b385-2a40faa3d30c",
   "metadata": {
    "jp-MarkdownHeadingCollapsed": true,
    "tags": []
   },
   "source": [
    "# 42"
   ]
  },
  {
   "cell_type": "markdown",
   "id": "7895ce11-0c2e-45b6-b47a-52e8593649b6",
   "metadata": {},
   "source": [
    "По заданному непустому списку двумерных массивов одинаковых размеров составьте трехмерный массив в котором вдоль нулевой оси расположены массивы из списка, между каждой парой которых вставлен массив полностью заполненный нулями.\n",
    "Решите задачу для списка \n",
    "```\n",
    "l = [np.array([[1, 2], [3, 4]]), np.array([[5, 6], [7, 8]]), np.array([[9, 10], [11, 12]])].\n",
    "```"
   ]
  },
  {
   "cell_type": "code",
   "execution_count": 262,
   "id": "fafa81b2-337d-403d-9ebe-dd4ad912cfe3",
   "metadata": {
    "execution": {
     "iopub.execute_input": "2023-06-22T15:04:46.597334Z",
     "iopub.status.busy": "2023-06-22T15:04:46.596760Z",
     "iopub.status.idle": "2023-06-22T15:04:46.613491Z",
     "shell.execute_reply": "2023-06-22T15:04:46.611903Z",
     "shell.execute_reply.started": "2023-06-22T15:04:46.597280Z"
    },
    "tags": []
   },
   "outputs": [
    {
     "data": {
      "text/plain": [
       "array([[[ 1.,  2.],\n",
       "        [ 3.,  4.]],\n",
       "\n",
       "       [[ 0.,  0.],\n",
       "        [ 0.,  0.]],\n",
       "\n",
       "       [[ 5.,  6.],\n",
       "        [ 7.,  8.]],\n",
       "\n",
       "       [[ 0.,  0.],\n",
       "        [ 0.,  0.]],\n",
       "\n",
       "       [[ 9., 10.],\n",
       "        [11., 12.]]])"
      ]
     },
     "execution_count": 262,
     "metadata": {},
     "output_type": "execute_result"
    }
   ],
   "source": [
    "l = [np.array([[1, 2], [3, 4]]), np.array([[5, 6], [7, 8]]), np.array([[9, 10], [11, 12]])]\n",
    "\n",
    "ar_shape = l[0].shape\n",
    "\n",
    "a = np.zeros((2 * len(l) - 1, *ar_shape))\n",
    "a[::2] = np.stack(l)\n",
    "a"
   ]
  },
  {
   "cell_type": "markdown",
   "id": "8321fd93-3ff5-45a9-96a0-7af2b55c48ba",
   "metadata": {
    "jp-MarkdownHeadingCollapsed": true,
    "tags": []
   },
   "source": [
    "# 43"
   ]
  },
  {
   "cell_type": "markdown",
   "id": "0c58233d-bf07-4b12-a479-98ad1bd1eafa",
   "metadata": {},
   "source": [
    "Преобразуйте одномерный массив \n",
    "```x = np.array([3,7,2,5,0,9,8,2,4,5])```\n",
    "в двумерный массив, первая строка которого - элементы массива x с индексами от 0 до 4, вторая строка - с 1 до 5 и т.д."
   ]
  },
  {
   "cell_type": "code",
   "execution_count": 268,
   "id": "c1d2de20-bec4-4832-9a71-c84ed093233f",
   "metadata": {
    "execution": {
     "iopub.execute_input": "2023-06-22T15:15:09.515766Z",
     "iopub.status.busy": "2023-06-22T15:15:09.515182Z",
     "iopub.status.idle": "2023-06-22T15:15:09.529812Z",
     "shell.execute_reply": "2023-06-22T15:15:09.528243Z",
     "shell.execute_reply.started": "2023-06-22T15:15:09.515712Z"
    },
    "tags": []
   },
   "outputs": [
    {
     "data": {
      "text/plain": [
       "array([[3, 7, 2, 5, 0],\n",
       "       [7, 2, 5, 0, 9],\n",
       "       [2, 5, 0, 9, 8],\n",
       "       [5, 0, 9, 8, 2],\n",
       "       [0, 9, 8, 2, 4],\n",
       "       [9, 8, 2, 4, 5]], dtype=int16)"
      ]
     },
     "execution_count": 268,
     "metadata": {},
     "output_type": "execute_result"
    }
   ],
   "source": [
    "x = np.array([3,7,2,5,0,9,8,2,4,5], dtype=np.int16)\n",
    "b = np.lib.stride_tricks.as_strided(x, (x.shape[0] - (5 - 1), 5), (x.itemsize, x.itemsize))\n",
    "b"
   ]
  },
  {
   "cell_type": "code",
   "execution_count": 267,
   "id": "c4062221-0c04-471a-91ac-9cb092316228",
   "metadata": {
    "execution": {
     "iopub.execute_input": "2023-06-22T15:14:58.798641Z",
     "iopub.status.busy": "2023-06-22T15:14:58.798082Z",
     "iopub.status.idle": "2023-06-22T15:14:58.808125Z",
     "shell.execute_reply": "2023-06-22T15:14:58.806537Z",
     "shell.execute_reply.started": "2023-06-22T15:14:58.798590Z"
    },
    "tags": []
   },
   "outputs": [
    {
     "data": {
      "text/plain": [
       "2"
      ]
     },
     "execution_count": 267,
     "metadata": {},
     "output_type": "execute_result"
    }
   ],
   "source": [
    "b.itemsize"
   ]
  },
  {
   "cell_type": "markdown",
   "id": "04697245-6769-48ca-ba1f-237954cf804b",
   "metadata": {
    "jp-MarkdownHeadingCollapsed": true,
    "tags": []
   },
   "source": [
    "# 44"
   ]
  },
  {
   "cell_type": "markdown",
   "id": "7b8c1bd7-1026-4849-bf7f-e73123d2d280",
   "metadata": {},
   "source": [
    "Для заданного двумерного массива постройте трехмерный массив, содержащий всевозможные неперекрывающиеся блоки размера 3x3, начиная с левого верхнего угла. Если высота/ширина исходного массива не кратна трем, исключите из рассмотрения последние строки/столбцы.\n",
    "Решите задачу на примере массива \n",
    "```x = np.arange(49).reshape(7,7).```"
   ]
  },
  {
   "cell_type": "code",
   "execution_count": 46,
   "id": "6480bdb8-22b8-4ec6-ae4c-5214ecc3b66a",
   "metadata": {
    "execution": {
     "iopub.execute_input": "2023-06-22T08:29:57.281027Z",
     "iopub.status.busy": "2023-06-22T08:29:57.280465Z",
     "iopub.status.idle": "2023-06-22T08:29:57.291471Z",
     "shell.execute_reply": "2023-06-22T08:29:57.289905Z",
     "shell.execute_reply.started": "2023-06-22T08:29:57.280974Z"
    },
    "tags": []
   },
   "outputs": [
    {
     "data": {
      "text/plain": [
       "(32, 16, 8)"
      ]
     },
     "execution_count": 46,
     "metadata": {},
     "output_type": "execute_result"
    }
   ],
   "source": [
    "a = np.arange(8).reshape(2,2,2)\n",
    "a.strides"
   ]
  },
  {
   "cell_type": "code",
   "execution_count": 270,
   "id": "5dc6a691-6867-402e-bc85-9663f583dec1",
   "metadata": {
    "execution": {
     "iopub.execute_input": "2023-06-22T15:30:01.829373Z",
     "iopub.status.busy": "2023-06-22T15:30:01.828810Z",
     "iopub.status.idle": "2023-06-22T15:30:01.850738Z",
     "shell.execute_reply": "2023-06-22T15:30:01.849335Z",
     "shell.execute_reply.started": "2023-06-22T15:30:01.829318Z"
    },
    "tags": []
   },
   "outputs": [
    {
     "name": "stdout",
     "output_type": "stream",
     "text": [
      "[[ 0  1  2  3  4  5  6]\n",
      " [ 7  8  9 10 11 12 13]\n",
      " [14 15 16 17 18 19 20]\n",
      " [21 22 23 24 25 26 27]\n",
      " [28 29 30 31 32 33 34]\n",
      " [35 36 37 38 39 40 41]\n",
      " [42 43 44 45 46 47 48]]\n"
     ]
    },
    {
     "data": {
      "text/plain": [
       "array([[[ 0,  1,  2],\n",
       "        [ 7,  8,  9],\n",
       "        [14, 15, 16]],\n",
       "\n",
       "       [[ 3,  4,  5],\n",
       "        [10, 11, 12],\n",
       "        [17, 18, 19]],\n",
       "\n",
       "       [[21, 22, 23],\n",
       "        [28, 29, 30],\n",
       "        [35, 36, 37]],\n",
       "\n",
       "       [[24, 25, 26],\n",
       "        [31, 32, 33],\n",
       "        [38, 39, 40]]])"
      ]
     },
     "execution_count": 270,
     "metadata": {},
     "output_type": "execute_result"
    }
   ],
   "source": [
    "x = np.arange(49).reshape(7,7)\n",
    "print(x)\n",
    "\n",
    "shape_x = (x.shape[0] // 3) * 3\n",
    "shape_y = (x.shape[1] // 3) * 3\n",
    "\n",
    "n_blocks = (shape_x // 3) * (shape_y // 3)\n",
    "\n",
    "x_stride = x.itemsize \n",
    "y_stride = x.itemsize * x.shape[1]\n",
    "\n",
    "x_4d = np.lib.stride_tricks.as_strided(\n",
    "    x, \n",
    "    (x.shape[0]//3, x.shape[1]//3, 3, 3), \n",
    "    (x.itemsize * 3 * x.shape[1] ,x.itemsize * 3 ,x.itemsize * x.shape[1], x.itemsize)\n",
    ")\n",
    "x_3d = x_4d.reshape(-1, 3, 3)\n",
    "x_3d\n",
    "# x_3d = np.lib.stride_tricks.sliding_window_view(x_new, (3, 3))[::3, ::3].reshape(n_blocks, 3, 3)\n",
    "# x_3d"
   ]
  },
  {
   "cell_type": "markdown",
   "id": "83e4817a-d13f-4c1a-bd54-05d183dd65f9",
   "metadata": {
    "jp-MarkdownHeadingCollapsed": true,
    "tags": []
   },
   "source": [
    "# 45"
   ]
  },
  {
   "cell_type": "markdown",
   "id": "b459a9b1-d4ba-4686-aa60-01d8991a65d6",
   "metadata": {},
   "source": [
    "Примените маску к элементам одномерного массива, отличающимся от среднего на величину, большую чем 3 стандартных отклонения.\n",
    "Решите задачу на примере массива из 20 элеметнов, первый из которых равен 100, а остальные равны 0."
   ]
  },
  {
   "cell_type": "code",
   "execution_count": 100,
   "id": "48f83fad-9a11-4cf7-add1-1de4d054200d",
   "metadata": {
    "execution": {
     "iopub.execute_input": "2023-06-22T09:43:33.165858Z",
     "iopub.status.busy": "2023-06-22T09:43:33.165292Z",
     "iopub.status.idle": "2023-06-22T09:43:33.180528Z",
     "shell.execute_reply": "2023-06-22T09:43:33.178939Z",
     "shell.execute_reply.started": "2023-06-22T09:43:33.165805Z"
    },
    "tags": []
   },
   "outputs": [
    {
     "data": {
      "text/plain": [
       "masked_array(data=[--, 0, 0, 0, 0, 0, 0, 0, 0, 0, 0, 0, 0, 0, 0, 0, 0, 0,\n",
       "                   0, 0],\n",
       "             mask=[ True, False, False, False, False, False, False, False,\n",
       "                   False, False, False, False, False, False, False, False,\n",
       "                   False, False, False, False],\n",
       "       fill_value=999999)"
      ]
     },
     "execution_count": 100,
     "metadata": {},
     "output_type": "execute_result"
    }
   ],
   "source": [
    "a = np.zeros(19, dtype=np.int64)\n",
    "a = np.concatenate((np.array([100]), a))\n",
    "\n",
    "mean = a.mean()\n",
    "sigma = a.std()\n",
    "\n",
    "masked_out = ma.masked_outside(a, mean-3*sigma, mean+3*sigma, )\n",
    "masked_out"
   ]
  },
  {
   "cell_type": "markdown",
   "id": "ae48106a-8d0e-4d61-a206-bd044f3a2baa",
   "metadata": {
    "jp-MarkdownHeadingCollapsed": true,
    "tags": []
   },
   "source": [
    "# 46"
   ]
  },
  {
   "cell_type": "markdown",
   "id": "27946e64-8d28-415f-b36d-33f0bb6a2af3",
   "metadata": {},
   "source": [
    "\"Удалите из двумерного массива столбцы, ко всем элементам которых применена маска.\n",
    "Решите задачу на примере массива \n",
    "```\n",
    "x = np.ma.array([[1, 2, 3], [4, 5, 6]], mask=[[1, 1, 0], [0, 1, 0]]).\n",
    "```\n"
   ]
  },
  {
   "cell_type": "code",
   "execution_count": 264,
   "id": "bd1f9c92-c827-49e4-95be-5c5284cc9993",
   "metadata": {
    "execution": {
     "iopub.execute_input": "2023-06-27T14:32:34.986795Z",
     "iopub.status.busy": "2023-06-27T14:32:34.985521Z",
     "iopub.status.idle": "2023-06-27T14:32:35.002476Z",
     "shell.execute_reply": "2023-06-27T14:32:35.001078Z",
     "shell.execute_reply.started": "2023-06-27T14:32:34.986730Z"
    },
    "tags": []
   },
   "outputs": [
    {
     "name": "stdout",
     "output_type": "stream",
     "text": [
      "[False  True False]\n",
      "[[False  True False]\n",
      " [False  True False]]\n"
     ]
    },
    {
     "data": {
      "text/plain": [
       "masked_array(\n",
       "  data=[[1, 0, 3],\n",
       "        [4, 0, 6]],\n",
       "  mask=[[False, False, False],\n",
       "        [False, False, False]],\n",
       "  fill_value=999999)"
      ]
     },
     "execution_count": 264,
     "metadata": {},
     "output_type": "execute_result"
    }
   ],
   "source": [
    "x = np.ma.array([[1, 2, 3], [4, 5, 6]], mask=[[1, 1, 0], [0, 1, 0]])\n",
    "print(x.mask.all(axis=0))\n",
    "x.mask = x.mask.all(axis=0)\n",
    "print(x.mask)\n",
    "#x = ma.compress_cols(x)\n",
    "#x\n",
    "x[x.mask] = 0\n",
    "x"
   ]
  },
  {
   "cell_type": "code",
   "execution_count": 262,
   "id": "65e540f8-8d26-47d9-a0b0-23c6e0655ccd",
   "metadata": {
    "execution": {
     "iopub.execute_input": "2023-06-27T14:31:49.658151Z",
     "iopub.status.busy": "2023-06-27T14:31:49.657176Z",
     "iopub.status.idle": "2023-06-27T14:31:49.667584Z",
     "shell.execute_reply": "2023-06-27T14:31:49.665983Z",
     "shell.execute_reply.started": "2023-06-27T14:31:49.658087Z"
    },
    "tags": []
   },
   "outputs": [
    {
     "data": {
      "text/plain": [
       "array([[False, False, False],\n",
       "       [False, False, False]])"
      ]
     },
     "execution_count": 262,
     "metadata": {},
     "output_type": "execute_result"
    }
   ],
   "source": [
    "x.mask"
   ]
  },
  {
   "cell_type": "markdown",
   "id": "98e8bf4a-c78d-496a-9cfb-64e22ca383ca",
   "metadata": {
    "jp-MarkdownHeadingCollapsed": true,
    "tags": []
   },
   "source": [
    "# 47"
   ]
  },
  {
   "cell_type": "markdown",
   "id": "bf67c1e6-3171-4c26-98f7-eda5d9b553a4",
   "metadata": {},
   "source": [
    "\"Примените маску к минимальному и максимальному элементу каждой строки двумерного массива.\n",
    "Решите задачу на примере массива \n",
    "```\n",
    "x = np.arange(25).reshape(5, 5).\n",
    "```"
   ]
  },
  {
   "cell_type": "code",
   "execution_count": 266,
   "id": "a62dfef6-d2a4-488a-9491-b6ecb3f6518e",
   "metadata": {
    "execution": {
     "iopub.execute_input": "2023-06-27T14:36:54.749307Z",
     "iopub.status.busy": "2023-06-27T14:36:54.748715Z",
     "iopub.status.idle": "2023-06-27T14:36:54.765134Z",
     "shell.execute_reply": "2023-06-27T14:36:54.763719Z",
     "shell.execute_reply.started": "2023-06-27T14:36:54.749250Z"
    },
    "tags": []
   },
   "outputs": [
    {
     "name": "stdout",
     "output_type": "stream",
     "text": [
      "[[ 0  1  2  3  4]\n",
      " [ 5  6  7  8  9]\n",
      " [10 11 12 13 14]\n",
      " [15 16 17 18 19]\n",
      " [20 21 22 23 24]]\n"
     ]
    },
    {
     "data": {
      "text/plain": [
       "masked_array(\n",
       "  data=[[--, 1, 2, 3, --],\n",
       "        [--, 6, 7, 8, --],\n",
       "        [--, 11, 12, 13, --],\n",
       "        [--, 16, 17, 18, --],\n",
       "        [--, 21, 22, 23, --]],\n",
       "  mask=[[ True, False, False, False,  True],\n",
       "        [ True, False, False, False,  True],\n",
       "        [ True, False, False, False,  True],\n",
       "        [ True, False, False, False,  True],\n",
       "        [ True, False, False, False,  True]],\n",
       "  fill_value=999999)"
      ]
     },
     "execution_count": 266,
     "metadata": {},
     "output_type": "execute_result"
    }
   ],
   "source": [
    "x = np.arange(25).reshape(5, 5)\n",
    "print(x)\n",
    "#condition = np.bitwise_or(x == x.max(axis=1, keepdims=1), x == x.min(axis=1, keepdims=1))\n",
    "condition = (x == x.max(axis=1, keepdims=1)) | (x == x.min(axis=1, keepdims=1))\n",
    "\n",
    "m = ma.masked_where(condition, x)\n",
    "m"
   ]
  },
  {
   "cell_type": "markdown",
   "id": "1b688761-7678-4e2e-8de6-6aabcd66bf50",
   "metadata": {
    "jp-MarkdownHeadingCollapsed": true,
    "tags": []
   },
   "source": [
    "# 48"
   ]
  },
  {
   "cell_type": "markdown",
   "id": "d618c573-be4a-4268-be13-cb92c7682527",
   "metadata": {},
   "source": [
    "Примените медианный фильтр с нечетной шириной окна k к заданному одномерному массиву a: i-е значение результирующего массива вычисляется как медиана подмассива \n",
    "```\n",
    "a[i - (k-1)/2: i - (k-1)/2 + 1].\n",
    "```\n",
    "В случае если границы окна выходят за границы массива, дополните исходный массив требуемым числом элементов a[0] или a[-1] с нужной стороны.\n",
    "Решите задачу на примере массива \n",
    "```\n",
    "a = np.array([3, 8, 100, -3, -7, 4, 0, 2])\n",
    "```\n",
    "и ширины окна k = 5.\""
   ]
  },
  {
   "cell_type": "code",
   "execution_count": 258,
   "id": "7670d56d-a241-4fc3-99ce-f748586df198",
   "metadata": {
    "execution": {
     "iopub.execute_input": "2023-06-27T13:59:25.833880Z",
     "iopub.status.busy": "2023-06-27T13:59:25.833522Z",
     "iopub.status.idle": "2023-06-27T13:59:27.324524Z",
     "shell.execute_reply": "2023-06-27T13:59:27.323549Z",
     "shell.execute_reply.started": "2023-06-27T13:59:25.833856Z"
    },
    "tags": []
   },
   "outputs": [
    {
     "name": "stdout",
     "output_type": "stream",
     "text": [
      "17.3 ms ± 1.74 ms per loop (mean ± std. dev. of 7 runs, 10 loops each)\n"
     ]
    }
   ],
   "source": [
    "%%timeit\n",
    "#a = np.array([3, 8, 100, -3, -7, 4, 0, 2])\n",
    "a = np.random.randint(-100, 100, size=1000, dtype=np.int64)\n",
    "k = 5\n",
    "shape = a.shape[0]\n",
    "\n",
    "padded_a = np.hstack((np.tile(a[0], (k-1)//2), a, np.tile(a[-1], (k-1)//2)))\n",
    "\n",
    "#print(padded_a)\n",
    "\n",
    "median_filter = np.empty(shape)\n",
    "\n",
    "for i in range(len(a)):\n",
    "    median_filter[i] = np.median(padded_a[i:i+k])"
   ]
  },
  {
   "cell_type": "code",
   "execution_count": 257,
   "id": "792d97ed-32fc-4f14-b331-12b9e128ae2f",
   "metadata": {
    "execution": {
     "iopub.execute_input": "2023-06-27T13:59:09.060343Z",
     "iopub.status.busy": "2023-06-27T13:59:09.059999Z",
     "iopub.status.idle": "2023-06-27T13:59:20.666808Z",
     "shell.execute_reply": "2023-06-27T13:59:20.665847Z",
     "shell.execute_reply.started": "2023-06-27T13:59:09.060319Z"
    },
    "tags": []
   },
   "outputs": [
    {
     "name": "stdout",
     "output_type": "stream",
     "text": [
      "142 µs ± 211 ns per loop (mean ± std. dev. of 7 runs, 10,000 loops each)\n"
     ]
    }
   ],
   "source": [
    "%%timeit\n",
    "#a = np.array([3, 8, 100, -3, -7, 4, 0, 2])\n",
    "a = np.random.randint(-100, 100, size=1000, dtype=np.int64)\n",
    "k = 5\n",
    "shape = a.shape[0]\n",
    "itemsize = a.itemsize\n",
    "\n",
    "padded_a = np.hstack((np.tile(a[0], (k-1)//2), a, np.tile(a[-1], (k-1)//2)))\n",
    "\n",
    "#print(padded_a)\n",
    "\n",
    "result = np.median(np.lib.stride_tricks.as_strided(padded_a, (shape, k), (itemsize, itemsize)), axis=1)"
   ]
  },
  {
   "cell_type": "markdown",
   "id": "9f47b21e-d7d9-4d39-ba66-30ee2677f1ac",
   "metadata": {
    "jp-MarkdownHeadingCollapsed": true,
    "tags": []
   },
   "source": [
    "# 49"
   ]
  },
  {
   "cell_type": "markdown",
   "id": "123bfff3-95ab-4b8b-9234-478625cdd581",
   "metadata": {},
   "source": [
    "\"По заданному массиву a размера Nx2 постройте одномерный массив длины N, i-й элемент которого - сумма i-го элемента первого столбца массива a и элемента первого столбца, индекс которого содержится в i-й строке второго столбца. В случае, если во втором столбце массива a содержится индекс, выходящий за границы, к элементу первого столбца ничего не прибавляйте.\n",
    "Решите задачу на примере массива \n",
    "```\n",
    "a = np.array([[10, 1], [3, 1], [8, 2], [6, 1], [12, 5]]).\n",
    "```"
   ]
  },
  {
   "cell_type": "code",
   "execution_count": 162,
   "id": "3fe981ae-7cce-4d82-aa45-d6a10613d911",
   "metadata": {
    "execution": {
     "iopub.execute_input": "2023-06-22T11:55:29.364395Z",
     "iopub.status.busy": "2023-06-22T11:55:29.363785Z",
     "iopub.status.idle": "2023-06-22T11:55:29.381806Z",
     "shell.execute_reply": "2023-06-22T11:55:29.380215Z",
     "shell.execute_reply.started": "2023-06-22T11:55:29.364340Z"
    },
    "tags": []
   },
   "outputs": [
    {
     "data": {
      "text/plain": [
       "array([13.,  6., 16.,  9., 12.])"
      ]
     },
     "execution_count": 162,
     "metadata": {},
     "output_type": "execute_result"
    }
   ],
   "source": [
    "a = np.array([[10, 1], [3, 1], [8, 2], [6, 1], [12, 5]])\n",
    "out = np.zeros(a.shape[0])\n",
    "\n",
    "for i in range(a.shape[0]):\n",
    "    if a[i, 1] < a.shape[0] and a[i, 1] >= 0:\n",
    "        out[i] = a[i, 0] + a[a[i, 1], 0]\n",
    "    else:\n",
    "        out[i] = a[i, 0]\n",
    "out"
   ]
  },
  {
   "cell_type": "markdown",
   "id": "bfac762c-42e2-44fd-9f9c-e6ec4d5f709b",
   "metadata": {
    "jp-MarkdownHeadingCollapsed": true,
    "tags": []
   },
   "source": [
    "# 50"
   ]
  },
  {
   "cell_type": "markdown",
   "id": "613a4a61-132a-4271-b7ed-e581f3943900",
   "metadata": {},
   "source": [
    "\"По заданному двумерному массиву размера NxN постройте словарь, ключи которого - индексы диагоналей, параллельных побочной (нумерация начинается с 0), а значения - списки элементов исходного массива, лежащих на соответствующих диагоналях.\n",
    "Решите задачу на примере массива \n",
    "```\n",
    "a = np.arange(16).reshape(4, 4)\n",
    "```\n",
    "в результате должен получиться словарь\n",
    "```\n",
    "{0: [0],\n",
    " 1: [1, 4],\n",
    " 2: [2, 5, 8],\n",
    " 3: [3, 6, 9, 12],\n",
    " 4: [7, 10, 13],\n",
    " 5: [11, 14],\n",
    " 6: [15]}.\n",
    "```"
   ]
  },
  {
   "cell_type": "code",
   "execution_count": 178,
   "id": "46e19328-ce17-403e-b8e5-80848b484a6a",
   "metadata": {
    "execution": {
     "iopub.execute_input": "2023-06-27T12:05:31.343926Z",
     "iopub.status.busy": "2023-06-27T12:05:31.342955Z",
     "iopub.status.idle": "2023-06-27T12:05:31.354636Z",
     "shell.execute_reply": "2023-06-27T12:05:31.353196Z",
     "shell.execute_reply.started": "2023-06-27T12:05:31.343886Z"
    },
    "tags": []
   },
   "outputs": [
    {
     "name": "stdout",
     "output_type": "stream",
     "text": [
      "[[ 0  1  2  3]\n",
      " [ 4  5  6  7]\n",
      " [ 8  9 10 11]\n",
      " [12 13 14 15]]\n",
      "[[ 3  2  1  0]\n",
      " [ 7  6  5  4]\n",
      " [11 10  9  8]\n",
      " [15 14 13 12]]\n"
     ]
    },
    {
     "data": {
      "text/plain": [
       "{0: [0],\n",
       " 1: [1, 4],\n",
       " 2: [2, 5, 8],\n",
       " 3: [3, 6, 9, 12],\n",
       " 4: [7, 10, 13],\n",
       " 5: [11, 14],\n",
       " 6: [15]}"
      ]
     },
     "execution_count": 178,
     "metadata": {},
     "output_type": "execute_result"
    }
   ],
   "source": [
    "a = np.arange(16).reshape(4, 4)\n",
    "print(a)\n",
    "a = np.fliplr(a)\n",
    "print(a)\n",
    "\n",
    "diag_dict = {}\n",
    "\n",
    "for k in range(2 * a.shape[0] - 1):\n",
    "    diag_dict[k] = np.diag(a, a.shape[0] - 1 - k).tolist()\n",
    "diag_dict"
   ]
  },
  {
   "cell_type": "markdown",
   "id": "5f3b27cb-80f3-4d83-a358-6d16c8b97ae8",
   "metadata": {
    "tags": []
   },
   "source": [
    "# Numpy task from starters"
   ]
  },
  {
   "cell_type": "code",
   "execution_count": 2,
   "id": "54c22fc4-d370-4783-9d7c-dec11c071f5f",
   "metadata": {
    "execution": {
     "iopub.execute_input": "2023-07-17T07:56:11.065778Z",
     "iopub.status.busy": "2023-07-17T07:56:11.065235Z",
     "iopub.status.idle": "2023-07-17T07:56:14.232816Z",
     "shell.execute_reply": "2023-07-17T07:56:14.230957Z",
     "shell.execute_reply.started": "2023-07-17T07:56:11.065751Z"
    },
    "tags": []
   },
   "outputs": [
    {
     "name": "stdout",
     "output_type": "stream",
     "text": [
      "Requirement already satisfied: numexpr in /root/.pyenv/versions/3.8.16/lib/python3.8/site-packages (2.8.4)\n",
      "Requirement already satisfied: numpy>=1.13.3 in /root/.pyenv/versions/3.8.16/lib/python3.8/site-packages (from numexpr) (1.24.3)\n",
      "\u001b[33mWARNING: Running pip as the 'root' user can result in broken permissions and conflicting behaviour with the system package manager. It is recommended to use a virtual environment instead: https://pip.pypa.io/warnings/venv\u001b[0m\u001b[33m\n",
      "\u001b[0m"
     ]
    }
   ],
   "source": [
    "!pip install --upgrade numexpr"
   ]
  },
  {
   "cell_type": "code",
   "execution_count": 3,
   "id": "d7ff5d0d-e9d5-42e8-bbce-a282eaf75c4e",
   "metadata": {
    "execution": {
     "iopub.execute_input": "2023-07-17T07:56:14.236573Z",
     "iopub.status.busy": "2023-07-17T07:56:14.236003Z",
     "iopub.status.idle": "2023-07-17T07:56:14.251984Z",
     "shell.execute_reply": "2023-07-17T07:56:14.250354Z",
     "shell.execute_reply.started": "2023-07-17T07:56:14.236519Z"
    },
    "tags": []
   },
   "outputs": [],
   "source": [
    "import os\n",
    "os.environ['NUMEXPR_MAX_THREADS'] = '16'\n",
    "os.environ['NUMEXPR_NUM_THREADS'] = '8'\n",
    "import numexpr as ne"
   ]
  },
  {
   "cell_type": "markdown",
   "id": "5e320c40-cf1b-48b4-a9c7-a7484ec47a2d",
   "metadata": {},
   "source": [
    "## 1"
   ]
  },
  {
   "cell_type": "code",
   "execution_count": 2,
   "id": "ba465d62-8613-4835-99d6-77ca11fd5653",
   "metadata": {
    "execution": {
     "iopub.execute_input": "2023-07-17T08:09:57.342167Z",
     "iopub.status.busy": "2023-07-17T08:09:57.341773Z",
     "iopub.status.idle": "2023-07-17T08:09:57.349593Z",
     "shell.execute_reply": "2023-07-17T08:09:57.348506Z",
     "shell.execute_reply.started": "2023-07-17T08:09:57.342142Z"
    },
    "tags": []
   },
   "outputs": [],
   "source": [
    "X = 100\n",
    "Y = 100\n",
    "Z = 30\n",
    "N = 20\n",
    "\n",
    "A = np.random.randint(-100, 100, size=(X, Y, Z))\n",
    "B = np.random.randint(-100, 100, size=(N, Z))"
   ]
  },
  {
   "cell_type": "markdown",
   "id": "4f1ab488-415a-4d9a-931f-9b8a9ec5b870",
   "metadata": {
    "tags": []
   },
   "source": [
    "### Baseline"
   ]
  },
  {
   "cell_type": "code",
   "execution_count": 3,
   "id": "a217fe85-832d-4a7b-ab8f-e33cf8cb96a3",
   "metadata": {
    "execution": {
     "iopub.execute_input": "2023-07-17T08:09:58.981249Z",
     "iopub.status.busy": "2023-07-17T08:09:58.980030Z",
     "iopub.status.idle": "2023-07-17T08:09:58.988386Z",
     "shell.execute_reply": "2023-07-17T08:09:58.986583Z",
     "shell.execute_reply.started": "2023-07-17T08:09:58.981201Z"
    },
    "tags": []
   },
   "outputs": [],
   "source": [
    "def corr(first, second):\n",
    "    return ((first*second).mean() - first.mean() * second.mean()) / (first.std()*second.std())"
   ]
  },
  {
   "cell_type": "code",
   "execution_count": 4,
   "id": "6bd5f932-417c-46df-8e6c-88ef34177093",
   "metadata": {
    "execution": {
     "iopub.execute_input": "2023-07-17T08:09:59.710848Z",
     "iopub.status.busy": "2023-07-17T08:09:59.709610Z",
     "iopub.status.idle": "2023-07-17T08:09:59.721843Z",
     "shell.execute_reply": "2023-07-17T08:09:59.720009Z",
     "shell.execute_reply.started": "2023-07-17T08:09:59.710790Z"
    },
    "tags": []
   },
   "outputs": [],
   "source": [
    "def corr_baseline(A, B):\n",
    "    X,Y,Z = A.shape\n",
    "    N, Z = B.shape\n",
    "    corr_matrix = np.empty((X, Y))\n",
    "\n",
    "    for ij in np.ndindex(A.shape[:2]):\n",
    "        A_trace = A[ij]\n",
    "        sum_ = 0\n",
    "        for B_trace in B:\n",
    "            sum_ += corr(A_trace, B_trace)\n",
    "        corr_matrix[ij] = sum_/B.shape[0]\n",
    "    return corr_matrix"
   ]
  },
  {
   "cell_type": "markdown",
   "id": "50f0860d-5aa2-4b19-a903-eb931f5f01b5",
   "metadata": {},
   "source": [
    "### Solution"
   ]
  },
  {
   "cell_type": "code",
   "execution_count": 5,
   "id": "ddb80db1-a42e-4c95-a840-7a74bd4b89c9",
   "metadata": {
    "execution": {
     "iopub.execute_input": "2023-07-17T08:10:01.460500Z",
     "iopub.status.busy": "2023-07-17T08:10:01.459926Z",
     "iopub.status.idle": "2023-07-17T08:10:13.430677Z",
     "shell.execute_reply": "2023-07-17T08:10:13.429835Z",
     "shell.execute_reply.started": "2023-07-17T08:10:01.460445Z"
    },
    "tags": []
   },
   "outputs": [
    {
     "data": {
      "text/plain": [
       "True"
      ]
     },
     "execution_count": 5,
     "metadata": {},
     "output_type": "execute_result"
    }
   ],
   "source": [
    "from Task_from_starters import first_task\n",
    "\n",
    "baseline_result = corr_baseline(A, B)\n",
    "my_result = first_task(A, B)\n",
    "\n",
    "(baseline_result.round(10) == my_result.round(10)).all()"
   ]
  },
  {
   "cell_type": "markdown",
   "id": "eb1c2920-b7fb-4e46-9f18-b54ec34304d8",
   "metadata": {
    "tags": []
   },
   "source": [
    "## 2"
   ]
  },
  {
   "cell_type": "code",
   "execution_count": 6,
   "id": "a59c79b0-700f-47b0-aab9-fee08c7ed451",
   "metadata": {
    "execution": {
     "iopub.execute_input": "2023-07-17T08:10:13.433019Z",
     "iopub.status.busy": "2023-07-17T08:10:13.432376Z",
     "iopub.status.idle": "2023-07-17T08:10:13.693875Z",
     "shell.execute_reply": "2023-07-17T08:10:13.692802Z",
     "shell.execute_reply.started": "2023-07-17T08:10:13.432989Z"
    },
    "tags": []
   },
   "outputs": [],
   "source": [
    "X = 1000\n",
    "Y = 1000\n",
    "Z = 30\n",
    "K = 3\n",
    "\n",
    "A = np.random.randint(-100, 100, size=(X, Y, Z))"
   ]
  },
  {
   "cell_type": "markdown",
   "id": "2362d880-a9ac-45b1-bfdd-bfb4533a7e3a",
   "metadata": {},
   "source": [
    "### Baseline"
   ]
  },
  {
   "cell_type": "code",
   "execution_count": 9,
   "id": "89f18a25-288f-4829-81a0-ee527b555b3b",
   "metadata": {
    "execution": {
     "iopub.execute_input": "2023-07-17T08:10:45.987510Z",
     "iopub.status.busy": "2023-07-17T08:10:45.987102Z",
     "iopub.status.idle": "2023-07-17T08:10:45.994700Z",
     "shell.execute_reply": "2023-07-17T08:10:45.993421Z",
     "shell.execute_reply.started": "2023-07-17T08:10:45.987486Z"
    },
    "tags": []
   },
   "outputs": [],
   "source": [
    "def create_blocks(A, K):\n",
    "    \"\"\"\n",
    "    Creates K x K x Z blocks from original array, and reshapes it into K^2 x Z blocks\n",
    "\n",
    "    Returns:\n",
    "        array of shape: (n_blocks, K^2, Z)\n",
    "    \"\"\"\n",
    "\n",
    "    itemsize = A.itemsize\n",
    "    X, Y, Z = A.shape\n",
    "\n",
    "    BATCH_SIZE = (K, K, Z)\n",
    "    x_blocks = A.shape[0] - (K - 1)\n",
    "    y_blocks = A.shape[1] - (K - 1)\n",
    "    n_blocks = x_blocks * y_blocks\n",
    "\n",
    "    blocks = np.lib.stride_tricks.as_strided(\n",
    "        A,\n",
    "        shape = (n_blocks, K, K, Z),\n",
    "        strides = (\n",
    "            itemsize*Z,\n",
    "            itemsize*Z*Y,\n",
    "            itemsize*Z,\n",
    "            itemsize\n",
    "        )\n",
    "    )\n",
    "    # flattening kxkxz traces into k^2xz so that central trace will be in center of resulting array\n",
    "    blocks = blocks.reshape(n_blocks, K*K, Z)\n",
    "    return blocks, n_blocks, x_blocks, y_blocks"
   ]
  },
  {
   "cell_type": "code",
   "execution_count": 10,
   "id": "c23a21d2-a41e-4ab3-820e-0bbae198bc6c",
   "metadata": {
    "execution": {
     "iopub.execute_input": "2023-07-17T08:10:48.618832Z",
     "iopub.status.busy": "2023-07-17T08:10:48.617481Z",
     "iopub.status.idle": "2023-07-17T08:10:48.631460Z",
     "shell.execute_reply": "2023-07-17T08:10:48.629890Z",
     "shell.execute_reply.started": "2023-07-17T08:10:48.618772Z"
    },
    "tags": []
   },
   "outputs": [],
   "source": [
    "def mean_corr(A, K):\n",
    "    X, Y, Z = A.shape\n",
    "    \n",
    "    blocks, n_blocks, x_blocks, y_blocks = create_blocks(A, K)\n",
    "    blocks = blocks.reshape(n_blocks, K*K, Z)\n",
    "    central_tr = blocks[:, blocks.shape[1]//2, :].reshape(n_blocks, 1, Z)\n",
    "\n",
    "    result = ((blocks * central_tr).mean(axis=2) - central_tr.mean(axis=2) * blocks.mean(axis=2)) / (central_tr.std(axis=2) * blocks.std(axis=2))\n",
    "\n",
    "    result = (result.sum(axis=1) - 1) / (K**2 - 1)\n",
    "    return result.reshape((x_blocks, y_blocks))"
   ]
  },
  {
   "cell_type": "markdown",
   "id": "8f13becc-8938-46ec-b7c3-9f9537ae5d06",
   "metadata": {},
   "source": [
    "### Solution"
   ]
  },
  {
   "cell_type": "code",
   "execution_count": 11,
   "id": "6670b5d6-e225-46d4-a1c0-90fd55449668",
   "metadata": {
    "execution": {
     "iopub.execute_input": "2023-07-17T08:10:50.894061Z",
     "iopub.status.busy": "2023-07-17T08:10:50.893478Z",
     "iopub.status.idle": "2023-07-17T08:10:58.393515Z",
     "shell.execute_reply": "2023-07-17T08:10:58.392525Z",
     "shell.execute_reply.started": "2023-07-17T08:10:50.894004Z"
    },
    "tags": []
   },
   "outputs": [
    {
     "data": {
      "text/plain": [
       "True"
      ]
     },
     "execution_count": 11,
     "metadata": {},
     "output_type": "execute_result"
    }
   ],
   "source": [
    "from Task_from_starters import second_task\n",
    "\n",
    "baseline_result = mean_corr(A, K)\n",
    "my_result = second_task(A, K)\n",
    "\n",
    "(baseline_result == my_result).all()"
   ]
  }
 ],
 "metadata": {
  "kernelspec": {
   "display_name": "Python 3 (ipykernel)",
   "language": "python",
   "name": "python3"
  },
  "language_info": {
   "codemirror_mode": {
    "name": "ipython",
    "version": 3
   },
   "file_extension": ".py",
   "mimetype": "text/x-python",
   "name": "python",
   "nbconvert_exporter": "python",
   "pygments_lexer": "ipython3",
   "version": "3.8.16"
  }
 },
 "nbformat": 4,
 "nbformat_minor": 5
}
